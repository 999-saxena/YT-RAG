{
  "cells": [
    {
      "cell_type": "code",
      "source": [
        "!pip install -qU \\\n",
        "  pinecone-client==3.1.0 \\\n",
        "  pinecone-datasets==0.7.0 \\\n",
        "  pinecone-notebooks==0.1.1"
      ],
      "metadata": {
        "colab": {
          "base_uri": "https://localhost:8080/"
        },
        "id": "BGno-VAVRngt",
        "outputId": "780ec3a4-a4cd-4b21-88f1-785589cff62d"
      },
      "id": "BGno-VAVRngt",
      "execution_count": null,
      "outputs": [
        {
          "output_type": "stream",
          "name": "stdout",
          "text": [
            "\u001b[31mERROR: pip's dependency resolver does not currently take into account all the packages that are installed. This behaviour is the source of the following dependency conflicts.\n",
            "google-genai 1.8.0 requires pydantic<3.0.0,>=2.0.0, but you have pydantic 1.10.21 which is incompatible.\n",
            "langchain-core 0.3.49 requires pydantic<3.0.0,>=2.5.2; python_full_version < \"3.12.4\", but you have pydantic 1.10.21 which is incompatible.\n",
            "albumentations 2.0.5 requires pydantic>=2.9.2, but you have pydantic 1.10.21 which is incompatible.\n",
            "langchain 0.3.21 requires pydantic<3.0.0,>=2.7.4, but you have pydantic 1.10.21 which is incompatible.\n",
            "wandb 0.19.8 requires pydantic<3,>=2.6, but you have pydantic 1.10.21 which is incompatible.\u001b[0m\u001b[31m\n",
            "\u001b[0m"
          ]
        }
      ]
    },
    {
      "cell_type": "code",
      "source": [
        "!pip install --upgrade pydantic -q"
      ],
      "metadata": {
        "colab": {
          "base_uri": "https://localhost:8080/"
        },
        "id": "52DB73m3Ro_1",
        "outputId": "6fd7784f-6e1b-4da8-d779-732f488071a6"
      },
      "id": "52DB73m3Ro_1",
      "execution_count": null,
      "outputs": [
        {
          "output_type": "stream",
          "name": "stdout",
          "text": [
            "\u001b[31mERROR: pip's dependency resolver does not currently take into account all the packages that are installed. This behaviour is the source of the following dependency conflicts.\n",
            "pinecone-datasets 0.7.0 requires pydantic<2.0.0,>=1.10.5, but you have pydantic 2.11.1 which is incompatible.\u001b[0m\u001b[31m\n",
            "\u001b[0m"
          ]
        }
      ]
    },
    {
      "cell_type": "code",
      "source": [
        "!pip install -U bitsandbytes -q"
      ],
      "metadata": {
        "id": "4XgCxQr4aUMJ"
      },
      "id": "4XgCxQr4aUMJ",
      "execution_count": null,
      "outputs": []
    },
    {
      "cell_type": "code",
      "source": [
        "from bs4 import BeautifulSoup\n",
        "import requests\n",
        "import time\n",
        "\n",
        "def scrape_trustpilot_reviews(company_name, num_pages=5, delay=2):\n",
        "    \"\"\"\n",
        "    Scrapes reviews from Trustpilot for a given company.\n",
        "\n",
        "    Args:\n",
        "        company_name (str): The name of the company to scrape reviews for (e.g., 'aetna').\n",
        "        num_pages (int, optional): The number of pages to scrape. Defaults to 5.\n",
        "        delay (int, optional): The delay in seconds between page requests. Defaults to 2.\n",
        "\n",
        "    Returns:\n",
        "        list: A list of review strings, or an empty list if an error occurred.\n",
        "    \"\"\"\n",
        "    trustpilot_url = f'https://www.trustpilot.com/review/www.{company_name}.com?page='\n",
        "    headers = {\n",
        "        'User-Agent': 'Mozilla/5.0 (Windows NT 10.0; Win64; x64) AppleWebKit/537.36 (KHTML, like Gecko) Chrome/58.0.3029.110 Safari/537.3'\n",
        "    }\n",
        "\n",
        "    def scrape_page(url):\n",
        "        \"\"\"Scrape reviews from a single page.\"\"\"\n",
        "        response = requests.get(url, headers=headers)\n",
        "\n",
        "        if response.status_code == 200:\n",
        "            soup = BeautifulSoup(response.content, 'html.parser')\n",
        "            reviews = soup.find_all('p', attrs={'data-service-review-text-typography': 'true'})\n",
        "            return [review.get_text() for review in reviews]\n",
        "        else:\n",
        "            print(f\"No more webpages left to scrape. Status code: {response.status_code}\")\n",
        "            return []\n",
        "\n",
        "    # Try to scrape first to know if the company exists\n",
        "    url = trustpilot_url + str(1)\n",
        "    response = requests.get(url, headers=headers)\n",
        "    if response.status_code != 200:\n",
        "      print(f\"Company '{company_name}' not found on Trustpilot.\")\n",
        "      return []\n",
        "\n",
        "    all_reviews = []\n",
        "    for page in range(1, num_pages + 1):\n",
        "        url = trustpilot_url + str(page)\n",
        "        print(f\"Scraping Trustpilot page {page}...\")\n",
        "        reviews = scrape_page(url)\n",
        "        if not reviews:\n",
        "            break  # Stop if no reviews are found on a page\n",
        "        all_reviews.extend(reviews)\n",
        "        time.sleep(delay)\n",
        "\n",
        "    return all_reviews"
      ],
      "metadata": {
        "id": "TzzBYZZhSO5P"
      },
      "id": "TzzBYZZhSO5P",
      "execution_count": null,
      "outputs": []
    },
    {
      "cell_type": "code",
      "source": [
        "def scrape_bestcompany_reviews(company_name, num_pages=5, delay=2):\n",
        "    \"\"\"\n",
        "    Scrapes reviews from Best Company for a given company.\n",
        "\n",
        "    Args:\n",
        "        company_name (str): The name of the company to scrape reviews for (e.g., 'aetna').\n",
        "        num_pages (int, optional): The number of pages to scrape. Defaults to 5.\n",
        "        delay (int, optional): The delay in seconds between page requests. Defaults to 2.\n",
        "\n",
        "    Returns:\n",
        "        list: A list of review strings, or an empty list if an error occurred.\n",
        "    \"\"\"\n",
        "    bestcompany_url = f'https://bestcompany.com/health-insurance/{company_name}?page='\n",
        "    headers = {\n",
        "        'User-Agent': 'Mozilla/5.0 (Windows NT 10.0; Win64; x64) AppleWebKit/537.36 (KHTML, like Gecko) Chrome/58.0.3029.110 Safari/537.3'\n",
        "    }\n",
        "\n",
        "    def scrape_page(url):\n",
        "        \"\"\"Scrape reviews from a single page.\"\"\"\n",
        "        response = requests.get(url, headers=headers)\n",
        "\n",
        "        if response.status_code == 200:\n",
        "          soup = BeautifulSoup(response.content, 'html.parser')\n",
        "          reviews = soup.find_all('div', class_='whitespace-pre-line break-words')\n",
        "          return [review.get_text() for review in reviews]\n",
        "        else:\n",
        "          print(f\"No more webpages left to scrape. Status code: {response.status_code}\")\n",
        "          return []\n",
        "\n",
        "    # Try to scrape first to know if the company exists\n",
        "    url = bestcompany_url + str(1)\n",
        "    response = requests.get(url, headers=headers)\n",
        "    if response.status_code != 200:\n",
        "      print(f\"Company '{company_name}' not found on Best Company.\")\n",
        "      return []\n",
        "\n",
        "    all_reviews = []\n",
        "    for page in range(1, num_pages + 1):\n",
        "        url = bestcompany_url + str(page)\n",
        "        print(f\"Scraping Best Company page {page}...\")\n",
        "        reviews = scrape_page(url)\n",
        "        if not reviews:\n",
        "            break  # Stop if no reviews are found on a page\n",
        "        all_reviews.extend(reviews)\n",
        "        time.sleep(delay)\n",
        "\n",
        "    return all_reviews"
      ],
      "metadata": {
        "id": "jczfNkrASOyd"
      },
      "id": "jczfNkrASOyd",
      "execution_count": null,
      "outputs": []
    },
    {
      "cell_type": "code",
      "source": [
        "# Get the company name from the user\n",
        "company_name = input(\"Enter the company name (e.g., aetna): \")"
      ],
      "metadata": {
        "colab": {
          "base_uri": "https://localhost:8080/"
        },
        "id": "Lk0dnbaMRo8l",
        "outputId": "d86ae4a7-904b-403c-c87f-124355de180c"
      },
      "id": "Lk0dnbaMRo8l",
      "execution_count": null,
      "outputs": [
        {
          "name": "stdout",
          "output_type": "stream",
          "text": [
            "Enter the company name (e.g., aetna): aetna\n"
          ]
        }
      ]
    },
    {
      "cell_type": "code",
      "source": [
        "# Scrape reviews from both Trustpilot and Best Company\n",
        "trustpilot_reviews = scrape_trustpilot_reviews(company_name, num_pages=3)\n",
        "bestcompany_reviews = scrape_bestcompany_reviews(company_name, num_pages=3)"
      ],
      "metadata": {
        "colab": {
          "base_uri": "https://localhost:8080/"
        },
        "id": "X85OpSpPRo6u",
        "outputId": "9ed5e074-2d0d-4a6b-b9c3-90da3bb8574d"
      },
      "id": "X85OpSpPRo6u",
      "execution_count": null,
      "outputs": [
        {
          "output_type": "stream",
          "name": "stdout",
          "text": [
            "Scraping Trustpilot page 1...\n",
            "Scraping Trustpilot page 2...\n",
            "Scraping Trustpilot page 3...\n",
            "Scraping Best Company page 1...\n",
            "Scraping Best Company page 2...\n",
            "Scraping Best Company page 3...\n"
          ]
        }
      ]
    },
    {
      "cell_type": "code",
      "source": [
        "# Combine reviews into a single list\n",
        "all_reviews = trustpilot_reviews + bestcompany_reviews"
      ],
      "metadata": {
        "id": "jQ0d958JRo3_"
      },
      "id": "jQ0d958JRo3_",
      "execution_count": null,
      "outputs": []
    },
    {
      "cell_type": "code",
      "source": [
        "# To see the output, run the code.\n",
        "if all_reviews:\n",
        "    print(f\"Total Number of Reviews Scraped for {company_name}: {len(all_reviews)}\")\n",
        "else:\n",
        "    print(\"No reviews scraped from either site.\")"
      ],
      "metadata": {
        "colab": {
          "base_uri": "https://localhost:8080/"
        },
        "id": "OvYUMd8CRo1U",
        "outputId": "4e03c678-d820-4a38-bf28-0b04f8dccdd8"
      },
      "id": "OvYUMd8CRo1U",
      "execution_count": null,
      "outputs": [
        {
          "output_type": "stream",
          "name": "stdout",
          "text": [
            "Total Number of Reviews Scraped for aetna: 208\n"
          ]
        }
      ]
    },
    {
      "cell_type": "code",
      "source": [
        "import pinecone\n",
        "import os\n",
        "from pinecone import Pinecone, ServerlessSpec\n",
        "import time\n",
        "\n",
        "pine_key = \"pcsk_6CjF3M_TVzGxF6Fnzq9mD1eFk33hRRRSrjysqAP4ndVRDNGxNfFkeKw3tq9TtwLz2BhuQT\"\n",
        "\n",
        "pc = Pinecone(\n",
        "        api_key=pine_key\n",
        "    )\n",
        "\n",
        "index_name = 'store-embeddings'\n",
        "\n",
        "if index_name not in pc.list_indexes().names():\n",
        "  pc.create_index(\n",
        "    name=index_name,\n",
        "    dimension=1024,\n",
        "    metric=\"cosine\",\n",
        "    spec=ServerlessSpec(\n",
        "        cloud=\"aws\",\n",
        "        region=\"us-east-1\"\n",
        "    )\n",
        ")\n",
        "\n",
        "# connect to index\n",
        "index = pc.Index(index_name)\n",
        "time.sleep(1)\n",
        "\n",
        "# view index stats\n",
        "index.describe_index_stats()"
      ],
      "metadata": {
        "colab": {
          "base_uri": "https://localhost:8080/"
        },
        "id": "L3QWhhM-RoC2",
        "outputId": "4ebf7369-99a8-4b64-d338-d83e78252d4e"
      },
      "id": "L3QWhhM-RoC2",
      "execution_count": null,
      "outputs": [
        {
          "output_type": "execute_result",
          "data": {
            "text/plain": [
              "{'dimension': 1024,\n",
              " 'index_fullness': 0.0,\n",
              " 'namespaces': {},\n",
              " 'total_vector_count': 0}"
            ]
          },
          "metadata": {},
          "execution_count": 10
        }
      ]
    },
    {
      "cell_type": "code",
      "source": [
        "from transformers import AutoTokenizer, AutoModel\n",
        "from langchain.text_splitter import SpacyTextSplitter\n",
        "import torch\n",
        "import multiprocessing\n",
        "from tqdm import tqdm\n",
        "\n",
        "device = torch.device('cuda' if torch.cuda.is_available() else 'cpu')\n",
        "embedding_tokenizer = AutoTokenizer.from_pretrained('jinaai/jina-embeddings-v3')\n",
        "embedding_model = AutoModel.from_pretrained('jinaai/jina-embeddings-v3', trust_remote_code=True).to(device)"
      ],
      "metadata": {
        "colab": {
          "base_uri": "https://localhost:8080/",
          "height": 1000
        },
        "id": "CsWuiqxKTKle",
        "outputId": "31a98534-9586-4988-daa9-7e759fd8afad"
      },
      "id": "CsWuiqxKTKle",
      "execution_count": null,
      "outputs": [
        {
          "output_type": "stream",
          "name": "stderr",
          "text": [
            "\n",
            "A module that was compiled using NumPy 1.x cannot be run in\n",
            "NumPy 2.0.2 as it may crash. To support both 1.x and 2.x\n",
            "versions of NumPy, modules must be compiled with NumPy 2.0.\n",
            "Some module may need to rebuild instead e.g. with 'pybind11>=2.12'.\n",
            "\n",
            "If you are a user of the module, the easiest solution will be to\n",
            "downgrade to 'numpy<2' or try to upgrade the affected module.\n",
            "We expect that some modules will need time to support NumPy 2.\n",
            "\n",
            "Traceback (most recent call last):  File \"<frozen runpy>\", line 198, in _run_module_as_main\n",
            "  File \"<frozen runpy>\", line 88, in _run_code\n",
            "  File \"/usr/local/lib/python3.11/dist-packages/colab_kernel_launcher.py\", line 37, in <module>\n",
            "    ColabKernelApp.launch_instance()\n",
            "  File \"/usr/local/lib/python3.11/dist-packages/traitlets/config/application.py\", line 992, in launch_instance\n",
            "    app.start()\n",
            "  File \"/usr/local/lib/python3.11/dist-packages/ipykernel/kernelapp.py\", line 712, in start\n",
            "    self.io_loop.start()\n",
            "  File \"/usr/local/lib/python3.11/dist-packages/tornado/platform/asyncio.py\", line 205, in start\n",
            "    self.asyncio_loop.run_forever()\n",
            "  File \"/usr/lib/python3.11/asyncio/base_events.py\", line 608, in run_forever\n",
            "    self._run_once()\n",
            "  File \"/usr/lib/python3.11/asyncio/base_events.py\", line 1936, in _run_once\n",
            "    handle._run()\n",
            "  File \"/usr/lib/python3.11/asyncio/events.py\", line 84, in _run\n",
            "    self._context.run(self._callback, *self._args)\n",
            "  File \"/usr/local/lib/python3.11/dist-packages/ipykernel/kernelbase.py\", line 510, in dispatch_queue\n",
            "    await self.process_one()\n",
            "  File \"/usr/local/lib/python3.11/dist-packages/ipykernel/kernelbase.py\", line 499, in process_one\n",
            "    await dispatch(*args)\n",
            "  File \"/usr/local/lib/python3.11/dist-packages/ipykernel/kernelbase.py\", line 406, in dispatch_shell\n",
            "    await result\n",
            "  File \"/usr/local/lib/python3.11/dist-packages/ipykernel/kernelbase.py\", line 730, in execute_request\n",
            "    reply_content = await reply_content\n",
            "  File \"/usr/local/lib/python3.11/dist-packages/ipykernel/ipkernel.py\", line 383, in do_execute\n",
            "    res = shell.run_cell(\n",
            "  File \"/usr/local/lib/python3.11/dist-packages/ipykernel/zmqshell.py\", line 528, in run_cell\n",
            "    return super().run_cell(*args, **kwargs)\n",
            "  File \"/usr/local/lib/python3.11/dist-packages/IPython/core/interactiveshell.py\", line 2975, in run_cell\n",
            "    result = self._run_cell(\n",
            "  File \"/usr/local/lib/python3.11/dist-packages/IPython/core/interactiveshell.py\", line 3030, in _run_cell\n",
            "    return runner(coro)\n",
            "  File \"/usr/local/lib/python3.11/dist-packages/IPython/core/async_helpers.py\", line 78, in _pseudo_sync_runner\n",
            "    coro.send(None)\n",
            "  File \"/usr/local/lib/python3.11/dist-packages/IPython/core/interactiveshell.py\", line 3257, in run_cell_async\n",
            "    has_raised = await self.run_ast_nodes(code_ast.body, cell_name,\n",
            "  File \"/usr/local/lib/python3.11/dist-packages/IPython/core/interactiveshell.py\", line 3473, in run_ast_nodes\n",
            "    if (await self.run_code(code, result,  async_=asy)):\n",
            "  File \"/usr/local/lib/python3.11/dist-packages/IPython/core/interactiveshell.py\", line 3553, in run_code\n",
            "    exec(code_obj, self.user_global_ns, self.user_ns)\n",
            "  File \"<ipython-input-11-6f63118c090c>\", line 1, in <cell line: 0>\n",
            "    from transformers import AutoTokenizer, AutoModel\n",
            "  File \"/usr/local/lib/python3.11/dist-packages/transformers/utils/import_utils.py\", line 1965, in __getattr__\n",
            "    value = getattr(module, name)\n",
            "  File \"/usr/local/lib/python3.11/dist-packages/transformers/utils/import_utils.py\", line 1964, in __getattr__\n",
            "    module = self._get_module(self._class_to_module[name])\n",
            "  File \"/usr/local/lib/python3.11/dist-packages/transformers/utils/import_utils.py\", line 1976, in _get_module\n",
            "    return importlib.import_module(\".\" + module_name, self.__name__)\n",
            "  File \"/usr/lib/python3.11/importlib/__init__.py\", line 126, in import_module\n",
            "    return _bootstrap._gcd_import(name[level:], package, level)\n",
            "  File \"/usr/local/lib/python3.11/dist-packages/transformers/models/auto/tokenization_auto.py\", line 38, in <module>\n",
            "    from .auto_factory import _LazyAutoMapping\n",
            "  File \"/usr/local/lib/python3.11/dist-packages/transformers/models/auto/auto_factory.py\", line 40, in <module>\n",
            "    from ...generation import GenerationMixin\n",
            "  File \"/usr/local/lib/python3.11/dist-packages/transformers/utils/import_utils.py\", line 1964, in __getattr__\n",
            "    module = self._get_module(self._class_to_module[name])\n",
            "  File \"/usr/local/lib/python3.11/dist-packages/transformers/utils/import_utils.py\", line 1976, in _get_module\n",
            "    return importlib.import_module(\".\" + module_name, self.__name__)\n",
            "  File \"/usr/lib/python3.11/importlib/__init__.py\", line 126, in import_module\n",
            "    return _bootstrap._gcd_import(name[level:], package, level)\n",
            "  File \"/usr/local/lib/python3.11/dist-packages/transformers/generation/utils.py\", line 30, in <module>\n",
            "    from transformers.generation.candidate_generator import AssistantVocabTranslatorCache\n",
            "  File \"/usr/local/lib/python3.11/dist-packages/transformers/generation/candidate_generator.py\", line 27, in <module>\n",
            "    from sklearn.metrics import roc_curve\n",
            "  File \"/usr/local/lib/python3.11/dist-packages/sklearn/__init__.py\", line 73, in <module>\n",
            "    from .base import clone  # noqa: E402\n",
            "  File \"/usr/local/lib/python3.11/dist-packages/sklearn/base.py\", line 19, in <module>\n",
            "    from .utils._estimator_html_repr import _HTMLDocumentationLinkMixin, estimator_html_repr\n",
            "  File \"/usr/local/lib/python3.11/dist-packages/sklearn/utils/__init__.py\", line 15, in <module>\n",
            "    from ._chunking import gen_batches, gen_even_slices\n",
            "  File \"/usr/local/lib/python3.11/dist-packages/sklearn/utils/_chunking.py\", line 11, in <module>\n",
            "    from ._param_validation import Interval, validate_params\n",
            "  File \"/usr/local/lib/python3.11/dist-packages/sklearn/utils/_param_validation.py\", line 17, in <module>\n",
            "    from .validation import _is_arraylike_not_scalar\n",
            "  File \"/usr/local/lib/python3.11/dist-packages/sklearn/utils/validation.py\", line 21, in <module>\n",
            "    from ..utils._array_api import _asarray_with_order, _is_numpy_namespace, get_namespace\n",
            "  File \"/usr/local/lib/python3.11/dist-packages/sklearn/utils/_array_api.py\", line 17, in <module>\n",
            "    from .fixes import parse_version\n",
            "  File \"/usr/local/lib/python3.11/dist-packages/sklearn/utils/fixes.py\", line 20, in <module>\n",
            "    import pandas as pd\n",
            "  File \"/usr/local/lib/python3.11/dist-packages/pandas/__init__.py\", line 26, in <module>\n",
            "    from pandas.compat import (\n",
            "  File \"/usr/local/lib/python3.11/dist-packages/pandas/compat/__init__.py\", line 27, in <module>\n",
            "    from pandas.compat.pyarrow import (\n",
            "  File \"/usr/local/lib/python3.11/dist-packages/pandas/compat/pyarrow.py\", line 8, in <module>\n",
            "    import pyarrow as pa\n",
            "  File \"/usr/local/lib/python3.11/dist-packages/pyarrow/__init__.py\", line 65, in <module>\n",
            "    import pyarrow.lib as _lib\n"
          ]
        },
        {
          "output_type": "error",
          "ename": "AttributeError",
          "evalue": "_ARRAY_API not found",
          "traceback": [
            "\u001b[0;31m---------------------------------------------------------------------------\u001b[0m",
            "\u001b[0;31mAttributeError\u001b[0m                            Traceback (most recent call last)",
            "\u001b[0;31mAttributeError\u001b[0m: _ARRAY_API not found"
          ]
        },
        {
          "output_type": "stream",
          "name": "stderr",
          "text": [
            "\n",
            "A module that was compiled using NumPy 1.x cannot be run in\n",
            "NumPy 2.0.2 as it may crash. To support both 1.x and 2.x\n",
            "versions of NumPy, modules must be compiled with NumPy 2.0.\n",
            "Some module may need to rebuild instead e.g. with 'pybind11>=2.12'.\n",
            "\n",
            "If you are a user of the module, the easiest solution will be to\n",
            "downgrade to 'numpy<2' or try to upgrade the affected module.\n",
            "We expect that some modules will need time to support NumPy 2.\n",
            "\n",
            "Traceback (most recent call last):  File \"<frozen runpy>\", line 198, in _run_module_as_main\n",
            "  File \"<frozen runpy>\", line 88, in _run_code\n",
            "  File \"/usr/local/lib/python3.11/dist-packages/colab_kernel_launcher.py\", line 37, in <module>\n",
            "    ColabKernelApp.launch_instance()\n",
            "  File \"/usr/local/lib/python3.11/dist-packages/traitlets/config/application.py\", line 992, in launch_instance\n",
            "    app.start()\n",
            "  File \"/usr/local/lib/python3.11/dist-packages/ipykernel/kernelapp.py\", line 712, in start\n",
            "    self.io_loop.start()\n",
            "  File \"/usr/local/lib/python3.11/dist-packages/tornado/platform/asyncio.py\", line 205, in start\n",
            "    self.asyncio_loop.run_forever()\n",
            "  File \"/usr/lib/python3.11/asyncio/base_events.py\", line 608, in run_forever\n",
            "    self._run_once()\n",
            "  File \"/usr/lib/python3.11/asyncio/base_events.py\", line 1936, in _run_once\n",
            "    handle._run()\n",
            "  File \"/usr/lib/python3.11/asyncio/events.py\", line 84, in _run\n",
            "    self._context.run(self._callback, *self._args)\n",
            "  File \"/usr/local/lib/python3.11/dist-packages/ipykernel/kernelbase.py\", line 510, in dispatch_queue\n",
            "    await self.process_one()\n",
            "  File \"/usr/local/lib/python3.11/dist-packages/ipykernel/kernelbase.py\", line 499, in process_one\n",
            "    await dispatch(*args)\n",
            "  File \"/usr/local/lib/python3.11/dist-packages/ipykernel/kernelbase.py\", line 406, in dispatch_shell\n",
            "    await result\n",
            "  File \"/usr/local/lib/python3.11/dist-packages/ipykernel/kernelbase.py\", line 730, in execute_request\n",
            "    reply_content = await reply_content\n",
            "  File \"/usr/local/lib/python3.11/dist-packages/ipykernel/ipkernel.py\", line 383, in do_execute\n",
            "    res = shell.run_cell(\n",
            "  File \"/usr/local/lib/python3.11/dist-packages/ipykernel/zmqshell.py\", line 528, in run_cell\n",
            "    return super().run_cell(*args, **kwargs)\n",
            "  File \"/usr/local/lib/python3.11/dist-packages/IPython/core/interactiveshell.py\", line 2975, in run_cell\n",
            "    result = self._run_cell(\n",
            "  File \"/usr/local/lib/python3.11/dist-packages/IPython/core/interactiveshell.py\", line 3030, in _run_cell\n",
            "    return runner(coro)\n",
            "  File \"/usr/local/lib/python3.11/dist-packages/IPython/core/async_helpers.py\", line 78, in _pseudo_sync_runner\n",
            "    coro.send(None)\n",
            "  File \"/usr/local/lib/python3.11/dist-packages/IPython/core/interactiveshell.py\", line 3257, in run_cell_async\n",
            "    has_raised = await self.run_ast_nodes(code_ast.body, cell_name,\n",
            "  File \"/usr/local/lib/python3.11/dist-packages/IPython/core/interactiveshell.py\", line 3473, in run_ast_nodes\n",
            "    if (await self.run_code(code, result,  async_=asy)):\n",
            "  File \"/usr/local/lib/python3.11/dist-packages/IPython/core/interactiveshell.py\", line 3553, in run_code\n",
            "    exec(code_obj, self.user_global_ns, self.user_ns)\n",
            "  File \"<ipython-input-11-6f63118c090c>\", line 1, in <cell line: 0>\n",
            "    from transformers import AutoTokenizer, AutoModel\n",
            "  File \"/usr/local/lib/python3.11/dist-packages/transformers/utils/import_utils.py\", line 1965, in __getattr__\n",
            "    value = getattr(module, name)\n",
            "  File \"/usr/local/lib/python3.11/dist-packages/transformers/utils/import_utils.py\", line 1964, in __getattr__\n",
            "    module = self._get_module(self._class_to_module[name])\n",
            "  File \"/usr/local/lib/python3.11/dist-packages/transformers/utils/import_utils.py\", line 1976, in _get_module\n",
            "    return importlib.import_module(\".\" + module_name, self.__name__)\n",
            "  File \"/usr/lib/python3.11/importlib/__init__.py\", line 126, in import_module\n",
            "    return _bootstrap._gcd_import(name[level:], package, level)\n",
            "  File \"/usr/local/lib/python3.11/dist-packages/transformers/models/auto/tokenization_auto.py\", line 38, in <module>\n",
            "    from .auto_factory import _LazyAutoMapping\n",
            "  File \"/usr/local/lib/python3.11/dist-packages/transformers/models/auto/auto_factory.py\", line 40, in <module>\n",
            "    from ...generation import GenerationMixin\n",
            "  File \"/usr/local/lib/python3.11/dist-packages/transformers/utils/import_utils.py\", line 1964, in __getattr__\n",
            "    module = self._get_module(self._class_to_module[name])\n",
            "  File \"/usr/local/lib/python3.11/dist-packages/transformers/utils/import_utils.py\", line 1976, in _get_module\n",
            "    return importlib.import_module(\".\" + module_name, self.__name__)\n",
            "  File \"/usr/lib/python3.11/importlib/__init__.py\", line 126, in import_module\n",
            "    return _bootstrap._gcd_import(name[level:], package, level)\n",
            "  File \"/usr/local/lib/python3.11/dist-packages/transformers/generation/utils.py\", line 30, in <module>\n",
            "    from transformers.generation.candidate_generator import AssistantVocabTranslatorCache\n",
            "  File \"/usr/local/lib/python3.11/dist-packages/transformers/generation/candidate_generator.py\", line 27, in <module>\n",
            "    from sklearn.metrics import roc_curve\n",
            "  File \"/usr/local/lib/python3.11/dist-packages/sklearn/__init__.py\", line 73, in <module>\n",
            "    from .base import clone  # noqa: E402\n",
            "  File \"/usr/local/lib/python3.11/dist-packages/sklearn/base.py\", line 19, in <module>\n",
            "    from .utils._estimator_html_repr import _HTMLDocumentationLinkMixin, estimator_html_repr\n",
            "  File \"/usr/local/lib/python3.11/dist-packages/sklearn/utils/__init__.py\", line 15, in <module>\n",
            "    from ._chunking import gen_batches, gen_even_slices\n",
            "  File \"/usr/local/lib/python3.11/dist-packages/sklearn/utils/_chunking.py\", line 11, in <module>\n",
            "    from ._param_validation import Interval, validate_params\n",
            "  File \"/usr/local/lib/python3.11/dist-packages/sklearn/utils/_param_validation.py\", line 17, in <module>\n",
            "    from .validation import _is_arraylike_not_scalar\n",
            "  File \"/usr/local/lib/python3.11/dist-packages/sklearn/utils/validation.py\", line 21, in <module>\n",
            "    from ..utils._array_api import _asarray_with_order, _is_numpy_namespace, get_namespace\n",
            "  File \"/usr/local/lib/python3.11/dist-packages/sklearn/utils/_array_api.py\", line 17, in <module>\n",
            "    from .fixes import parse_version\n",
            "  File \"/usr/local/lib/python3.11/dist-packages/sklearn/utils/fixes.py\", line 20, in <module>\n",
            "    import pandas as pd\n",
            "  File \"/usr/local/lib/python3.11/dist-packages/pandas/__init__.py\", line 49, in <module>\n",
            "    from pandas.core.api import (\n",
            "  File \"/usr/local/lib/python3.11/dist-packages/pandas/core/api.py\", line 9, in <module>\n",
            "    from pandas.core.dtypes.dtypes import (\n",
            "  File \"/usr/local/lib/python3.11/dist-packages/pandas/core/dtypes/dtypes.py\", line 24, in <module>\n",
            "    from pandas._libs import (\n",
            "  File \"/usr/local/lib/python3.11/dist-packages/pyarrow/__init__.py\", line 65, in <module>\n",
            "    import pyarrow.lib as _lib\n"
          ]
        },
        {
          "output_type": "error",
          "ename": "AttributeError",
          "evalue": "_ARRAY_API not found",
          "traceback": [
            "\u001b[0;31m---------------------------------------------------------------------------\u001b[0m",
            "\u001b[0;31mAttributeError\u001b[0m                            Traceback (most recent call last)",
            "\u001b[0;31mAttributeError\u001b[0m: _ARRAY_API not found"
          ]
        },
        {
          "output_type": "stream",
          "name": "stderr",
          "text": [
            "/usr/local/lib/python3.11/dist-packages/huggingface_hub/utils/_auth.py:94: UserWarning: \n",
            "The secret `HF_TOKEN` does not exist in your Colab secrets.\n",
            "To authenticate with the Hugging Face Hub, create a token in your settings tab (https://huggingface.co/settings/tokens), set it as secret in your Google Colab and restart your session.\n",
            "You will be able to reuse this secret in all of your notebooks.\n",
            "Please note that authentication is recommended but still optional to access public models or datasets.\n",
            "  warnings.warn(\n",
            "WARNING:transformers_modules.jinaai.xlm-roberta-flash-implementation.2b6bc3f30750b3a9648fe9b63448c09920efe9be.modeling_xlm_roberta:flash_attn is not installed. Using PyTorch native attention implementation.\n",
            "WARNING:transformers_modules.jinaai.xlm-roberta-flash-implementation.2b6bc3f30750b3a9648fe9b63448c09920efe9be.modeling_xlm_roberta:flash_attn is not installed. Using PyTorch native attention implementation.\n",
            "WARNING:transformers_modules.jinaai.xlm-roberta-flash-implementation.2b6bc3f30750b3a9648fe9b63448c09920efe9be.modeling_xlm_roberta:flash_attn is not installed. Using PyTorch native attention implementation.\n",
            "WARNING:transformers_modules.jinaai.xlm-roberta-flash-implementation.2b6bc3f30750b3a9648fe9b63448c09920efe9be.modeling_xlm_roberta:flash_attn is not installed. Using PyTorch native attention implementation.\n",
            "WARNING:transformers_modules.jinaai.xlm-roberta-flash-implementation.2b6bc3f30750b3a9648fe9b63448c09920efe9be.modeling_xlm_roberta:flash_attn is not installed. Using PyTorch native attention implementation.\n",
            "WARNING:transformers_modules.jinaai.xlm-roberta-flash-implementation.2b6bc3f30750b3a9648fe9b63448c09920efe9be.modeling_xlm_roberta:flash_attn is not installed. Using PyTorch native attention implementation.\n",
            "WARNING:transformers_modules.jinaai.xlm-roberta-flash-implementation.2b6bc3f30750b3a9648fe9b63448c09920efe9be.modeling_xlm_roberta:flash_attn is not installed. Using PyTorch native attention implementation.\n",
            "WARNING:transformers_modules.jinaai.xlm-roberta-flash-implementation.2b6bc3f30750b3a9648fe9b63448c09920efe9be.modeling_xlm_roberta:flash_attn is not installed. Using PyTorch native attention implementation.\n",
            "WARNING:transformers_modules.jinaai.xlm-roberta-flash-implementation.2b6bc3f30750b3a9648fe9b63448c09920efe9be.modeling_xlm_roberta:flash_attn is not installed. Using PyTorch native attention implementation.\n",
            "WARNING:transformers_modules.jinaai.xlm-roberta-flash-implementation.2b6bc3f30750b3a9648fe9b63448c09920efe9be.modeling_xlm_roberta:flash_attn is not installed. Using PyTorch native attention implementation.\n",
            "WARNING:transformers_modules.jinaai.xlm-roberta-flash-implementation.2b6bc3f30750b3a9648fe9b63448c09920efe9be.modeling_xlm_roberta:flash_attn is not installed. Using PyTorch native attention implementation.\n",
            "WARNING:transformers_modules.jinaai.xlm-roberta-flash-implementation.2b6bc3f30750b3a9648fe9b63448c09920efe9be.modeling_xlm_roberta:flash_attn is not installed. Using PyTorch native attention implementation.\n",
            "WARNING:transformers_modules.jinaai.xlm-roberta-flash-implementation.2b6bc3f30750b3a9648fe9b63448c09920efe9be.modeling_xlm_roberta:flash_attn is not installed. Using PyTorch native attention implementation.\n",
            "WARNING:transformers_modules.jinaai.xlm-roberta-flash-implementation.2b6bc3f30750b3a9648fe9b63448c09920efe9be.modeling_xlm_roberta:flash_attn is not installed. Using PyTorch native attention implementation.\n",
            "WARNING:transformers_modules.jinaai.xlm-roberta-flash-implementation.2b6bc3f30750b3a9648fe9b63448c09920efe9be.modeling_xlm_roberta:flash_attn is not installed. Using PyTorch native attention implementation.\n",
            "WARNING:transformers_modules.jinaai.xlm-roberta-flash-implementation.2b6bc3f30750b3a9648fe9b63448c09920efe9be.modeling_xlm_roberta:flash_attn is not installed. Using PyTorch native attention implementation.\n",
            "WARNING:transformers_modules.jinaai.xlm-roberta-flash-implementation.2b6bc3f30750b3a9648fe9b63448c09920efe9be.modeling_xlm_roberta:flash_attn is not installed. Using PyTorch native attention implementation.\n",
            "WARNING:transformers_modules.jinaai.xlm-roberta-flash-implementation.2b6bc3f30750b3a9648fe9b63448c09920efe9be.modeling_xlm_roberta:flash_attn is not installed. Using PyTorch native attention implementation.\n",
            "WARNING:transformers_modules.jinaai.xlm-roberta-flash-implementation.2b6bc3f30750b3a9648fe9b63448c09920efe9be.modeling_xlm_roberta:flash_attn is not installed. Using PyTorch native attention implementation.\n",
            "WARNING:transformers_modules.jinaai.xlm-roberta-flash-implementation.2b6bc3f30750b3a9648fe9b63448c09920efe9be.modeling_xlm_roberta:flash_attn is not installed. Using PyTorch native attention implementation.\n",
            "WARNING:transformers_modules.jinaai.xlm-roberta-flash-implementation.2b6bc3f30750b3a9648fe9b63448c09920efe9be.modeling_xlm_roberta:flash_attn is not installed. Using PyTorch native attention implementation.\n",
            "WARNING:transformers_modules.jinaai.xlm-roberta-flash-implementation.2b6bc3f30750b3a9648fe9b63448c09920efe9be.modeling_xlm_roberta:flash_attn is not installed. Using PyTorch native attention implementation.\n",
            "WARNING:transformers_modules.jinaai.xlm-roberta-flash-implementation.2b6bc3f30750b3a9648fe9b63448c09920efe9be.modeling_xlm_roberta:flash_attn is not installed. Using PyTorch native attention implementation.\n",
            "WARNING:transformers_modules.jinaai.xlm-roberta-flash-implementation.2b6bc3f30750b3a9648fe9b63448c09920efe9be.modeling_xlm_roberta:flash_attn is not installed. Using PyTorch native attention implementation.\n",
            "WARNING:transformers_modules.jinaai.xlm-roberta-flash-implementation.2b6bc3f30750b3a9648fe9b63448c09920efe9be.modeling_xlm_roberta:flash_attn is not installed. Using PyTorch native attention implementation.\n"
          ]
        }
      ]
    },
    {
      "cell_type": "code",
      "source": [
        "text_splitter = SpacyTextSplitter(chunk_size=500)"
      ],
      "metadata": {
        "id": "tNVlA2KtTKaR"
      },
      "id": "tNVlA2KtTKaR",
      "execution_count": null,
      "outputs": []
    },
    {
      "cell_type": "code",
      "source": [
        "# Function to generate embeddings\n",
        "def generate_embeddings(texts):\n",
        "    embedding_model.eval()\n",
        "    with torch.no_grad():\n",
        "        inputs = embedding_tokenizer(texts, padding=True, truncation=True, return_tensors='pt').to(device)\n",
        "        outputs = embedding_model(**inputs)\n",
        "        embeddings = outputs.last_hidden_state.mean(dim=1).cpu().float().numpy()\n",
        "    return embeddings"
      ],
      "metadata": {
        "id": "TddaXoFOTKW5"
      },
      "id": "TddaXoFOTKW5",
      "execution_count": null,
      "outputs": []
    },
    {
      "cell_type": "code",
      "source": [
        "# Batch processing\n",
        "batch_size = 32\n",
        "\n",
        "\n",
        "for review_id, review in enumerate(all_reviews):\n",
        "    chunks = text_splitter.split_text(review)\n",
        "    chunk_embeddings = []\n",
        "    chunk_ids = []\n",
        "    chunk_metadata = []\n",
        "\n",
        "    for chunk_index, chunk in enumerate(chunks):\n",
        "        chunk_embeddings.append(chunk)\n",
        "        chunk_ids.append(f\"{review_id}_{chunk_index}\")\n",
        "        chunk_metadata.append({\"review_id\": review_id, \"chunk_index\": chunk_index, \"text\": chunk})\n",
        "\n",
        "        if len(chunk_embeddings) == batch_size:\n",
        "            embeddings = generate_embeddings(chunk_embeddings)\n",
        "            vectors = list(zip(chunk_ids, embeddings, chunk_metadata))\n",
        "            index.upsert(vectors)\n",
        "            chunk_embeddings, chunk_ids, chunk_metadata = [], [], []\n",
        "\n",
        "    # Upsert remaining chunks\n",
        "    if chunk_embeddings:\n",
        "        embeddings = generate_embeddings(chunk_embeddings)\n",
        "        vectors = list(zip(chunk_ids, embeddings, chunk_metadata))\n",
        "        index.upsert(vectors)\n",
        "\n",
        "print(\"Upserting completed!\")"
      ],
      "metadata": {
        "colab": {
          "base_uri": "https://localhost:8080/"
        },
        "id": "UlXLV4q-TKUV",
        "outputId": "cf6d0c15-17d7-4ca6-cef9-16eeb6518570"
      },
      "id": "UlXLV4q-TKUV",
      "execution_count": null,
      "outputs": [
        {
          "output_type": "stream",
          "name": "stderr",
          "text": [
            "/usr/local/lib/python3.11/dist-packages/spacy/pipeline/lemmatizer.py:211: UserWarning: [W108] The rule-based lemmatizer did not find POS annotation for one or more tokens. Check that your pipeline includes components that assign token.pos, typically 'tagger'+'attribute_ruler' or 'morphologizer'.\n",
            "  warnings.warn(Warnings.W108)\n",
            "WARNING:langchain_text_splitters.base:Created a chunk of size 740, which is longer than the specified 500\n"
          ]
        },
        {
          "output_type": "stream",
          "name": "stdout",
          "text": [
            "Upserting completed!\n"
          ]
        }
      ]
    },
    {
      "cell_type": "code",
      "source": [
        "# Function to query Pinecone\n",
        "def query_pinecone(query, top_k=3):\n",
        "    query_embedding = generate_embeddings(query, task='retrieval.query')\n",
        "    results = index.query(query_embedding, top_k=top_k)\n",
        "    return results"
      ],
      "metadata": {
        "id": "rgqAS20tTKRn"
      },
      "id": "rgqAS20tTKRn",
      "execution_count": null,
      "outputs": []
    },
    {
      "cell_type": "code",
      "source": [
        "query = \"How far away is the earth from sun?\"\n",
        "\n",
        "# create the query vector\n",
        "xq = embedding_model.encode(query).tolist()\n",
        "\n",
        "# now query\n",
        "xc = index.query(vector=xq, top_k=3, include_metadata=True)\n",
        "\n",
        "for result in xc['matches']:\n",
        "    print(f\"{round(result['score'], 2)}: {result['metadata']['text']}\")\n",
        "    print(\"-------------------------------------------------------------------------\")"
      ],
      "metadata": {
        "colab": {
          "base_uri": "https://localhost:8080/"
        },
        "id": "lHL4Qtg-Yq8B",
        "outputId": "945d5b00-7fd3-483e-b0a9-100e3d3aa117"
      },
      "id": "lHL4Qtg-Yq8B",
      "execution_count": null,
      "outputs": [
        {
          "output_type": "stream",
          "name": "stdout",
          "text": [
            "0.32: This is with an overpriced higher end plan.\n",
            "-------------------------------------------------------------------------\n",
            "0.32: I pay $1000 out of pocket and my work pays an extra $800 and I pay 45-55% of the bills and my family limit is $9000 a year before they cover it all?\n",
            "\n",
            "How is that a good insurance plan?\n",
            "\n",
            "Some of the 5* comments are extremely general and repetitive.\n",
            "\n",
            "I expect paid for or bot written.\n",
            "\n",
            "Read the less than stellar reviews and you get a better picture.\n",
            "-------------------------------------------------------------------------\n",
            "0.32: Unacceptable!  \n",
            "\n",
            "My family and I will be displaced by then as I have a max of 3 days to move out from the premises.\n",
            "\n",
            "My wife had disability once for maternity leave and the entire process from start to finish was HALF of what I've already been waiting.\n",
            "\n",
            "Be warned, this company is a joke!\n",
            "-------------------------------------------------------------------------\n"
          ]
        }
      ]
    },
    {
      "cell_type": "code",
      "source": [
        "retrieved_text = \" \".join([result['metadata']['text'] for result in xc['matches']])\n",
        "retrieved_text"
      ],
      "metadata": {
        "colab": {
          "base_uri": "https://localhost:8080/",
          "height": 88
        },
        "id": "vTaOSUhrdPSH",
        "outputId": "87892385-1771-454f-8259-66796f02f8b2"
      },
      "id": "vTaOSUhrdPSH",
      "execution_count": null,
      "outputs": [
        {
          "output_type": "execute_result",
          "data": {
            "text/plain": [
              "\"This is with an overpriced higher end plan. I pay $1000 out of pocket and my work pays an extra $800 and I pay 45-55% of the bills and my family limit is $9000 a year before they cover it all?\\n\\nHow is that a good insurance plan?\\n\\nSome of the 5* comments are extremely general and repetitive.\\n\\nI expect paid for or bot written.\\n\\nRead the less than stellar reviews and you get a better picture. Unacceptable!  \\n\\nMy family and I will be displaced by then as I have a max of 3 days to move out from the premises.\\n\\nMy wife had disability once for maternity leave and the entire process from start to finish was HALF of what I've already been waiting.\\n\\nBe warned, this company is a joke!\""
            ],
            "application/vnd.google.colaboratory.intrinsic+json": {
              "type": "string"
            }
          },
          "metadata": {},
          "execution_count": 24
        }
      ]
    },
    {
      "cell_type": "code",
      "source": [
        "import torch\n",
        "from transformers import AutoModelForCausalLM, AutoTokenizer, pipeline\n",
        "\n",
        "model_path = \"microsoft/Phi-4-mini-instruct\"\n",
        "\n",
        "model = AutoModelForCausalLM.from_pretrained(\n",
        "    model_path,\n",
        "    device_map=\"cuda\",\n",
        "    load_in_8bit=True,\n",
        ")\n",
        "\n",
        "tokenizer = AutoTokenizer.from_pretrained(model_path)"
      ],
      "metadata": {
        "colab": {
          "base_uri": "https://localhost:8080/",
          "height": 86,
          "referenced_widgets": [
            "b29fa3999f5e4821887867c00014e132",
            "1fddbbbaf521473387e14d2c74bb9065",
            "ef3ba67563f7439a9e12d61eebfcafc2",
            "f80006b93f964ae484387aded9f6d186",
            "07a8f390320f4c48809cb568a0d3f01a",
            "f840c943e6b243aeaba60c0c3c24adfc",
            "fd8ecc26f6ca49dfb59c116345b6feea",
            "bcb2d5dd654a4ddc9f6c7ab3975c4fb7",
            "712d251eb72548a4bb6e08bac2b1ae38",
            "d27507801852474b90f6a4569126f285",
            "596b4f1850f74c9f92ffa38b0c12aa02"
          ]
        },
        "id": "aitgchC5ZEss",
        "outputId": "e32a8681-66d9-43ae-8ea4-d4134e00594a"
      },
      "id": "aitgchC5ZEss",
      "execution_count": null,
      "outputs": [
        {
          "output_type": "stream",
          "name": "stderr",
          "text": [
            "The `load_in_4bit` and `load_in_8bit` arguments are deprecated and will be removed in the future versions. Please, pass a `BitsAndBytesConfig` object in `quantization_config` argument instead.\n"
          ]
        },
        {
          "output_type": "display_data",
          "data": {
            "text/plain": [
              "Loading checkpoint shards:   0%|          | 0/2 [00:00<?, ?it/s]"
            ],
            "application/vnd.jupyter.widget-view+json": {
              "version_major": 2,
              "version_minor": 0,
              "model_id": "b29fa3999f5e4821887867c00014e132"
            }
          },
          "metadata": {}
        }
      ]
    },
    {
      "cell_type": "code",
      "source": [
        "#index.delete(delete_all=True)"
      ],
      "metadata": {
        "id": "0XSn0_wrZZKF"
      },
      "id": "0XSn0_wrZZKF",
      "execution_count": null,
      "outputs": []
    },
    {
      "cell_type": "code",
      "source": [
        "prompt = f\"\"\"### Context:\n",
        "{retrieved_text}\n",
        "\n",
        "### Instructions:\n",
        "You are a helpful assistant answering questions based solely on the provided context.\n",
        "Respond in the third person without referencing individuals in the context.\n",
        "If the information needed to answer the question is not in the context, respond with \"I don't know\".\n",
        "Do not use any knowledge beyond what is in the context.\n",
        "\n",
        "### Question:\n",
        "{query}\n",
        "\n",
        "### Answer:\n",
        "\"\"\"\n",
        "#"
      ],
      "metadata": {
        "id": "jRWiia9QbeUN"
      },
      "id": "jRWiia9QbeUN",
      "execution_count": null,
      "outputs": []
    },
    {
      "cell_type": "code",
      "source": [
        "inputs = tokenizer(prompt, return_tensors=\"pt\").to(model.device)\n",
        "\n",
        "with torch.no_grad():\n",
        "  outputs = model.generate(\n",
        "            **inputs,\n",
        "            max_new_tokens=200,\n",
        "            temperature=0.1,\n",
        "            do_sample=False\n",
        "        )\n",
        "\n",
        "    # Extract the response (removing the prompt)\n",
        "response = tokenizer.decode(outputs[0][inputs.input_ids.shape[1]:], skip_special_tokens=True)"
      ],
      "metadata": {
        "id": "eZ9WFQu-fIZ0"
      },
      "id": "eZ9WFQu-fIZ0",
      "execution_count": null,
      "outputs": []
    },
    {
      "cell_type": "code",
      "source": [
        "response"
      ],
      "metadata": {
        "colab": {
          "base_uri": "https://localhost:8080/",
          "height": 36
        },
        "id": "1puUwWGPfSRz",
        "outputId": "d9039122-b82c-400e-ecec-22baf70d4b4c"
      },
      "id": "1puUwWGPfSRz",
      "execution_count": null,
      "outputs": [
        {
          "output_type": "execute_result",
          "data": {
            "text/plain": [
              "\"I don't know.\""
            ],
            "application/vnd.google.colaboratory.intrinsic+json": {
              "type": "string"
            }
          },
          "metadata": {},
          "execution_count": 27
        }
      ]
    },
    {
      "cell_type": "code",
      "source": [],
      "metadata": {
        "id": "BmGgWFKWfVP-"
      },
      "id": "BmGgWFKWfVP-",
      "execution_count": null,
      "outputs": []
    },
    {
      "cell_type": "code",
      "source": [],
      "metadata": {
        "id": "6dpQWmPFbU6U"
      },
      "id": "6dpQWmPFbU6U",
      "execution_count": null,
      "outputs": []
    },
    {
      "cell_type": "code",
      "source": [
        "from bs4 import BeautifulSoup\n",
        "import requests\n",
        "import time"
      ],
      "metadata": {
        "id": "Cfzfr_tBbU2w"
      },
      "id": "Cfzfr_tBbU2w",
      "execution_count": null,
      "outputs": []
    },
    {
      "cell_type": "code",
      "source": [
        "def scrape_reviews(company_name, sources=['bestcompany', 'trustpilot'], num_pages=5, delay=2):\n",
        "    \"\"\"\n",
        "    Scrapes reviews from multiple sources for a given company and returns them in a single combined list.\n",
        "\n",
        "    Args:\n",
        "        company_name (str): The name of the company to scrape reviews for (e.g., 'aetna').\n",
        "        sources (list, optional): The sources to scrape from. Defaults to ['bestcompany', 'trustpilot'].\n",
        "        num_pages (int, optional): The number of pages to scrape per source. Defaults to 5.\n",
        "        delay (int, optional): The delay in seconds between page requests. Defaults to 2.\n",
        "\n",
        "    Returns:\n",
        "        list: A combined list of all review strings from all sources.\n",
        "    \"\"\"\n",
        "    headers = {\n",
        "        'User-Agent': 'Mozilla/5.0 (Windows NT 10.0; Win64; x64) AppleWebKit/537.36 (KHTML, like Gecko) Chrome/58.0.3029.110 Safari/537.3'\n",
        "    }\n",
        "\n",
        "    all_reviews = []\n",
        "\n",
        "    # Define source-specific configurations\n",
        "    source_configs = {\n",
        "        'bestcompany': {\n",
        "            'url_template': f'https://bestcompany.com/health-insurance/{company_name}?page=',\n",
        "            'selector': ('div', {'class_': 'whitespace-pre-line break-words'}),\n",
        "        },\n",
        "        'trustpilot': {\n",
        "            'url_template': f'https://www.trustpilot.com/review/www.{company_name}.com?page=',\n",
        "            'selector': ('p', {'attrs': {'data-service-review-text-typography': 'true'}}),\n",
        "        }\n",
        "    }\n",
        "\n",
        "    # Process each requested source\n",
        "    for source in sources:\n",
        "        if source not in source_configs:\n",
        "            print(f\"Source '{source}' is not supported.\")\n",
        "            continue\n",
        "\n",
        "        config = source_configs[source]\n",
        "        url_template = config['url_template']\n",
        "        selector_type, selector_attrs = config['selector']\n",
        "\n",
        "        # Function to scrape a single page\n",
        "        def scrape_page(url):\n",
        "            \"\"\"Scrape reviews from a single page.\"\"\"\n",
        "            response = requests.get(url, headers=headers)\n",
        "\n",
        "            if response.status_code == 200:\n",
        "                soup = BeautifulSoup(response.content, 'html.parser')\n",
        "                if selector_type == 'p' and 'attrs' in selector_attrs:\n",
        "                    reviews = soup.find_all(selector_type, **selector_attrs['attrs'])\n",
        "                else:\n",
        "                    reviews = soup.find_all(selector_type, **selector_attrs)\n",
        "                return [review.get_text() for review in reviews]\n",
        "            else:\n",
        "                print(f\"Error scraping {url}. Status code: {response.status_code}\")\n",
        "                return []\n",
        "\n",
        "        # Try to scrape first to know if the company exists\n",
        "        url = url_template + str(1)\n",
        "        response = requests.get(url, headers=headers)\n",
        "        if response.status_code != 200:\n",
        "            print(f\"Company '{company_name}' not found on {source}.\")\n",
        "            continue\n",
        "\n",
        "        # Scrape all requested pages\n",
        "        source_reviews = []\n",
        "        for page in range(1, num_pages + 1):\n",
        "            url = url_template + str(page)\n",
        "            print(f\"Scraping {source} page {page}...\")\n",
        "            reviews = scrape_page(url)\n",
        "            if not reviews:\n",
        "                break  # Stop if no reviews are found on a page\n",
        "            source_reviews.extend(reviews)\n",
        "            time.sleep(delay)\n",
        "\n",
        "        # Add source reviews to combined list\n",
        "        all_reviews.extend(source_reviews)\n",
        "        print(f\"Added {len(source_reviews)} reviews from {source}\")\n",
        "\n",
        "    return all_reviews"
      ],
      "metadata": {
        "id": "CI4ZT2RWbUz0"
      },
      "id": "CI4ZT2RWbUz0",
      "execution_count": null,
      "outputs": []
    },
    {
      "cell_type": "code",
      "source": [
        "company = 'aetna'\n",
        "\n",
        "reviews = scrape_reviews(company, sources=['bestcompany', 'trustpilot'], num_pages=3)"
      ],
      "metadata": {
        "colab": {
          "base_uri": "https://localhost:8080/"
        },
        "id": "n0e7N2vwbkQE",
        "outputId": "6ba26587-727a-4ee7-b59b-698336252603"
      },
      "id": "n0e7N2vwbkQE",
      "execution_count": null,
      "outputs": [
        {
          "output_type": "stream",
          "name": "stdout",
          "text": [
            "Scraping bestcompany page 1...\n",
            "Scraping bestcompany page 2...\n",
            "Scraping bestcompany page 3...\n",
            "Added 150 reviews from bestcompany\n",
            "Scraping trustpilot page 1...\n",
            "Scraping trustpilot page 2...\n",
            "Scraping trustpilot page 3...\n",
            "Added 58 reviews from trustpilot\n"
          ]
        }
      ]
    },
    {
      "cell_type": "code",
      "source": [
        "for i in range(len(reviews)):\n",
        "  print(i, \"--------\", reviews[i])"
      ],
      "metadata": {
        "colab": {
          "base_uri": "https://localhost:8080/"
        },
        "id": "ZQeOEWYSbqW_",
        "outputId": "b9d37f25-7ea2-4698-efdd-18b084c8e5fc"
      },
      "id": "ZQeOEWYSbqW_",
      "execution_count": null,
      "outputs": [
        {
          "output_type": "stream",
          "name": "stdout",
          "text": [
            "0 -------- I’m now age 77 and have Aetna. In 2015 I had open heart surgery at Doylestown Heart Hospital. I only had a small deductible and Aetna took over, and they were outstanding. Not one complaint.  In 2016 my wife had knee replacement, and again we were truly amazed as they picked up everything with small deductible. Recently had gall bladder surgery at Doylestown Hospital.  As usual, Aetna just worked as smooth as glass.  Amazing, a few days after leaving hospital, Aetna provided us with 14 free meals as part of our coverage. Wow! Aetna pays my fees at local YMCA with silver sneakers. We have plans C which INCLUDES DRUG coverage. Most of our prescriptions have NO co pay. We pay $72 each monthly. At my age it is hard to say WOW, but Aetna has performed better than could be expected. Luv Aetna. 👍🇱🇷\n",
            "1 -------- Aetna is the absolute worst insurance company out there.  Been with Aetna for 12 years. I was diagnosed with Cancer in sept 2023 my surgery, radiation and continues treatment was scheduled for 2024. I have a high deductible and out of pocket cost and made it a point to have it maxed by march 2024. June of 2024 I suddenly get a bill for an oncology visit from 04/11. I call and was informed they will do research because yes I axed out my deductible and out of pocket 03/05. Never received a letter or call or email or anything. July 2024 I receive the same oncology bill again. I call back and the first person after talking around in circles transferred me to express scripts and I was hung up on. Never received a call back or nothing. I called back 2nd person again talks in circles and transfers me to express scripts stating there was a medication reversal that caused this. Express script has no clue why I was transferred to them since I don't gill my meds with my oncologist and this is a oncologist bill. Express scripts transfers me back. 3rd person I am talking to still talking in circles trying to transfer me back to express scripts. Uhh no, I have spent 3+ hours on the phone with them that day and don't have the time for this I work . I had to submit a appeal and received this your out of pocket was not met until 04/15 ( how funny that my appointment 04/11) therefore you are still liable to pay. I have yet to get an answer on how since I have had everyday, every other day and at least 3 times a week appointments since March but all of a sudden 04/11 is selected . My open enrollment is coming up and will be selected a new insurance for sure.\n",
            "2 -------- They are my Medicare Advantage health insurance and I am very happy with them.  They pay out quickly and in a timely manner.  They are quick to get a response back to my doctors for approval for things.\n",
            "3 -------- I had Aetna for about 3 years and it was awesome. They are upfront about all costs and charges, and they will work with you on payment due dates, and they have always been professional and helpful when you call for help. Will recommend and consider again in the future.\n",
            "4 -------- We get are health insurance through my husbands employment. They no longer have Aetna for our insurance. His employer has went with a different carrier. When we had Aetna it was so easy to submit a claim. Their web page was easy to navigate even for someone like me with no computer skills. I really liked their customer service they always had a answer to all my questions. We miss Aetna\n",
            "5 -------- Everything I have needed, including spinal surgery, has been authorized by Aetna!  After pre- authorization, Aetna has approved for me!  I am satisfied with Aetna so far, as of 1 year.  Very  good customer service.  Very friendly staff!  I will stay with Aetna!\n",
            "6 -------- I really appreciate the customer service.  When I call I am not put on hold.  The rep. was Ester from Cary, NC .  She was very patient with me.  I had a lot of questions and she answered every one to my satisfaction.  She was very polite, friendly and professional.  I highly recommend Aetna and Ester.\n",
            "7 -------- very prompt--reliable and a good value for the cost of the policy and the coverage we need.  Without it we would not have the level of care that we have needed.  To get in touch with  them when we need to is encouraging and dependable  that we can rely on at very difficult times  because of our health.\n",
            "8 -------- We had Aetna Health Insurance in the past offered to us through my husbands company and we loved it! It was nice and easy to use and covered all of our health and welfare needs.  Every time we needed to go to a specialist it was so helpful that they all accepted Aetna. I like that they are such a wonderful service that many doctors use.\n",
            "9 -------- Aetna has always been my favorite health insurance company and I am sad to say that my employer is no longer using Aetna after this year. I am very sad about it. Aetna  has always paid any claims that I have submitted and I always felt that I could count on Aetna. Whether  using the nurse line or asking a question about my benefits and coverage customer service has always been great and has always done their best to explain thing that I just didn’t get. I’m sad to leave Aetna and hope that the new health insurance company we have to use is half as helpful as Aetna has been.\n",
            "10 -------- I had health coverage from Aetna while living in Guatemala a couple of years ago. During my time using their service I felt that the customer service was helpful and considerate of my situation. Their online portal was easy to use and I was able to address claims that I made quickly and easily. Were my employment to provide this Health Insurance plan in the future, I would not be disappointed!\n",
            "11 -------- Their customer service is pretty responsive, depending on who you get on the phone.  My Aetna plan pays a lot more than other plans I looked at for the things I want such as dental and specialists plus it’s not one of those horrid things where you have to go to a few certain doctors.  They need to include more doctors, though.  Some that I want to go to aren’t in their program, and I have to pay more, but it’s still very affordable and worth it.   They don’t give you the impression you’re being ripped off like some insurance companies do--like it’s a constant battle.  Their site is very intuitive and easy to use.\n",
            "12 -------- We have had Aetna for many years now and they are the best health insurance provider we have ever had. The price is the best part but the network of available physicians is a close second.  Any time I have ever had a question, customer service has been able to give me straight forward and honest answers very quickly. I would recommend Aetna to anyone looking for a new health insurance provider.\n",
            "13 -------- We switched from a competing health insurance company a few years ago when we moved from my wife's coverage to mine.  I'd been with the prior company for many years and was reluctant to change.  Really just concerned that I'd walk into lower quality service because we we're saving money.  That hasn't been the case.  Our family doesn't have any major medical issues, but plenty of routine stuff.  And Aetnae coverage has been quick and comprehensive. We've never had any claim issues.  That's great in my book!\n",
            "14 -------- My company health plan is through Aetne, every time I have had to speak with with an Aetne representative they were helping and friendly.\n",
            "15 -------- Has been a very good insurance company for my elderly family members. We have relied on Aetna for some time and can always rely on them to provide clear and quality service. They are good at communicating any time a problem does arise with insurance.\n",
            "16 -------- I changed to Aetna and I don't regret it.  I pay zip at any doctor I go to and meds are very inexpensive.  Love them, they take care of me for all my medical needs.  I called once and customer service was excellent.\n",
            "17 -------- By far the best rate on Medicare Supplemental in my area.  I even got a discount through a professional association membership.   Claims processing is good, and monthly account information is complete.\n",
            "18 -------- I will give two stars because the majority of the customer services reps I spoke to did try to help. Now here is my official review since being an Aetna hmo dual preferred snp member in February of 2022. \n",
            "So I originally had to change from Humana because I am on a supplement and when I move Humana was not in my area. Aetna after talking to the representative  had everything I needed ( so I thought). Well after two months I finally found a primary care physician that I have to drive for 35 miles to when I live in a big metropolitan area. I still do not have a mental health therapist. The only one they could find so far is the mental health clinic from the health department that you go in at 7 and wait to be seen all day. I am not doing that. If I wanted to go to the free clinic I would not have insurance. Not being offensive to the free clinic because I have used them before. I have called every one in the book and got crickets from them as what to do next.\n",
            "I am blessed that my old pychiatrist was in network and I can do tellamed with him so I am still medicated. \n",
            "I have to drive 40 miles to a dentist who was in network and don’t know how that is going to turn out since I have a dental fear. \n",
            "Over all I am highly disappointed with the Aetna plan and may have to find a new plan soon.\n",
            "19 -------- The really poor coverage may be my wife's employer's choice to save themselves a lot of money but the on-line Caremark pharmacy is dreadfully inefficient and incompetent.\n",
            "\n",
            "They frequently require new prescriptions when their own site shows refills available. When they have to communicate with the doctor they do it via FAX. How many hospitals still have FAX machines?! And when you wind up having to call them they have the most-up-to-date system for torturing the customer.\n",
            "\n",
            "Oh. And the web site doesn't work very well. Good luck trying to find your doctor with their search engine, which you're required to do when requesting a prescription renewal.\n",
            "20 -------- Aetna pop medicare sent me to hearing care solutions to find an in network hearing doctor that would cover exam and hearing aids. They sent me to nation and nation made the appointment guaranteed me they were covered. I went to the appointment and guess what they weren't.  I made them call hearing care solutions right while I was sitting there. Hearing care said they have no record of me ever calling!!! Are you kidding me? I have the 4 phone calls to them  in my call log. I would have never gone. I cant believe the lies they told me and the hearing place! Another example of company's taking advantage of seniors how dare them!\n",
            "21 -------- Based on today's experience, my opinion of Aetna's pre-certification process is:\n",
            "1)  They value process more than people\n",
            "2)  At least some of their pre-certification rules are written by robots\n",
            "3)  At least some of the pre-certification reviews are conducted by automatons.\n",
            "\n",
            "A surgery was scheduled to remove a device embedded in the body, under tissue and presumable muscle.  They would not approve the surgery, based on the information initially provided by the surgeon's office, because :  \n",
            "1)  The surgeon did not specify the device was out-of-warranty, when it was actually  rendered inoperative by a previous surgery.  This presumably caused the device warranty be to voided.\n",
            "2)  The surgeon did not certify the device was not repairable.  I'm not sure how you determine whether a device is repairable when it is embedded in a human body, and in any case, presumably it would need to be removed to be repaired, if repairable at all.  Makes no sense to me.\n",
            "\n",
            "The additional information requested was provided yesterday, for a surgery scheduled today.  The patient was in pre-op awaiting approval, and the response of the pre-certification team was along the lines of:  \"It would take up to two weeks to make a decision\".  Unbelievable!  The surgeon's office is slow in providing additional information, but Aetna would not do anything to prevent the patient (customer) being inconvenienced.\n",
            "\n",
            "If you are shopping for health insurance based on value, I suspect you can find a provider with somewhat less bureaucracy, and more empathy for the patient.  This will be the last year I will use Aetna as our health insurance provider.\n",
            "\n",
            "Aetna has provided fairly decent service in the past, and I gave them many chances to fix this pre-certification issue yesterday and today, but they seem to cling to their bureaucratic procedures, when a simple decision made quickly would have resolved the issue.  Another incident like this, which is highly unlikely given the short amount of time until I switch providers, would probably result in a one start rating.\n",
            "22 -------- I went in to mansfield health care for a follow-up appointment to go over x- trays and blood work for my knee and foot with a aetna ins.$45 co-pay. While there the doctor suggested cortizone shot in my knee, the total time in exam room was 13 minutes. When I got the bill they charged for a surgicle procedure. I called the billing hospital and was informed the mansfield was no longer authorized to do surgical procedures. I called etna insurance and they charged me an additional co-pay of $290 for a day surgery. Getting a shot is not surgery. I have this shot in the past in never charged for a 1 day hospital stay. Aetna refused to change what I was charged and made me pay $290 over what I should have been for a 13 minute office visit.\n",
            "Beware of aetna and what they will make have pay. They  work with providers to make you pay excessive co-pays. They don't really care about you just there bottom line.\n",
            "23 -------- TERRIBLE CUSTOMER SERVICE ...good insurance coverage. I called today and was transferred to \"14\" people who could not tell me about the advantage plan. Was on line for 2 hours with them.  Would not recommend them unless you have a local agent. My agent passed away 6 months ago and they could not tell me who I could contact locally to take care of me should I have an emergency or questions.\n",
            "24 -------- The guys I've been receiving emails from are very nice and responsive, in general  if this review great  would be based on Customer Care, I'd rate it 10+ stars.\n",
            "\n",
            "But:\n",
            "1- Just too expensive. Comparing to BUPA, Allianz I had before (working for the same company; they've never got back to me why they've changed providers) like 13-15%. And their lists of benefits were longer than AETNA's.\n",
            "\n",
            "2- I've been exchanging emails with their Claim dpt. for days now. Apparently, vaccination for kids is not part of my coverage. Not for COVID. For MENINGOCOCCAL MENINGGITIS A,C,Y! &W.  Sorry for being sarcastic, but I was shocked: at the early 21st century!\n",
            " Needless to mention that local providers here in Qatar, not branches of come big,  word renown provider, have ALL the vaccinations covered. Where I'm coming from (and my country's annual GDP is 30% less than overall AETNA profit) it's also free/covered. \n",
            "\n",
            "I'm looking into a way how to leave AETNA and enroll with some other provider before end of one year coverage. Annually I'll save circa EUR4500.\n",
            "25 -------- I have Aetna through the state of Illinois. Since the state switched to this current plan, I've been very impressed with the customer service and the coverage. Much better than anything we've had previously!\n",
            "26 -------- I had this insurance previously with one of my employments. I had a copay but I was able to go to the ER and outpatient. After my $40 copay, it covered everything else such as immunizations and routine lab work.\n",
            "27 -------- I was covered with Aetna insurance when I was on my parents plan. Customer service did a great job at answering all the questions I had with benefits. They were great at helping knowing what was on the plan, but I did not like the plan. We had to still pay quite a bit out of pocket.\n",
            "28 -------- When I broke my toe bone and needed to see an orthopedic I was grateful to have Aetna. Aetna covered everything so that I wouldn’t have to worry . Instead all I needed to do was show up to the doctor and take care of myself just like Aetna took care of me! I recommend people to research Aetna and it’s benefits because they really help you!\n",
            "29 -------- I have had Aetna health insurance for a while now. They have great customer service and are very tentative to customer requests. Aetna has various options for insurance, for members of all types of income. I have greatly appreciated my time as a consumer of Aetna.\n",
            "30 -------- I used Aetna during my employment with two different companies and found it a very good insurance company to deal with for medical coverage.  The cost of coverage was always reasonable and covered all of my needs at the time.\n",
            "31 -------- I’ve been an Aetna customer for over 20 years. I’ve never had a reason to look for a different insurance provider at my company because Aetna has administered my health plan well, their website is solid and their customer service is good.\n",
            "32 -------- I went in to the doctor to have a procedure done. When I got there we weren’t sure which test was covered. I called Aetna while sitting in the waiting room. Within 5 minutes i had an answer to my question.  They even double checked my coverage again.  Very fast, friendly, knowledgeable service.\n",
            "33 -------- Over all, I like Aetna.  Most associates are nice and helpful and don’t have any problems answering questions and helping you to understand whatever it is your asking about.  There are a handful that does make me wonder if they have a quota to fill on the number of people they talk to or help.  Sometimes it seems they are trying to get off as quickly as possible.  They are also the same ones that tend to make me feel stupid for not understanding to begin with.\n",
            "34 -------- Looked at several other plans from various other companies , but felt like the Aetna plan was best for my wife and I. Low cost,covered everything we needed covered, and includes a dental rebate program. When i needed an answer to a question they have always been there for me and are always concerned about improving my well being .\n",
            "35 -------- I attend University and it can be difficult to find insurances that are accepted. However, with this insurance, I have no problems. I go to my Healthness Center if I have any problems and this insurance does very well in taking care of the charges. I never have to worry about an out of pocket payment.\n",
            "36 -------- Our premiums are high, but our experience is that they have paid for almost every medical appointment, surgery, test, and procedure after our high deductible. The exceptions are the tests we have needed that aren't mainstream tests, such as genetic testing and gadolinium poisoning from MRI contrast (which they paid for). This year, it has been definitely worth it.\n",
            "37 -------- We recently just made the change to Aetna and we love it so far. The coverage is great and the customer service is so helpful with every question or concern that we have. The billing process is always smooth and easy and we’ve never had a problem.\n",
            "38 -------- We had this son on this insurance while he spent 2 years in Peru. During a time that he was sick there, he was able to visit with 2 doctors after being the victim of a couple medical emergencies. This insurance company was very on top of things and were able to quickly assess the situation. Authorization as pushed to local doctors and help was able to be given. I am very grateful for the affiliation that this service has with young people like my son.\n",
            "39 -------- Great health insurance, great price, and great network.  I currently have Aetna health insurance for my family and have nothing but good things to say about them.  I have had some bad experiences in the past but Aetna is a breath of fresh air.\n",
            "40 -------- Co-pays are more than I would like them to be with 20 and 40 for specialist. My husband went through a heart even that came to thousands of dollars. We only had to pay a small fraction. He continues to have many prescriptions a month that are 90% covered by the insurance. So far great experience.\n",
            "41 -------- I have Aetna thru my work for health insurance. Calling the number on the back of my card to find a doctor near me is for the most part quick. Right around lunch time the lines can get bogged down but they are good at finding what service your looking for.\n",
            "42 -------- Under no circumstances should anyone even think about using this company. Customer Service, Prescription Pans and over all Management of this company are absolutely attrocias!!\n",
            "\n",
            "RUN AWAY.AND NEVER LOOK BACK....MUCH BETTER COMPANY'S AND PLANS AVAILABLE\n",
            "43 -------- I have had Aetna for over 2 years and they have refused to pay for my claims because they say I have \"other insurance.\" I do not. My husband and I have called them many, many times where they reassue us that the problem has been resolved, but it has not. \n",
            "\n",
            "Bill collectors call and harrass me every single day. We pay thousands of dollars a year to this company and they readily accept our payments, but refuse to pay for covered claims. \n",
            "\n",
            "I'm sure that if the brain tumor doesn't kill me, Aetna will. They are shameless.\n",
            "44 -------- I've been taken hostage by Aetna prescription drug plan Part D 2025. I had Aetna Part D plan $9.90/mo in 2024. I receive regular communication from Aetna by post every month and always open and read my mail. I was NOT informed by post, email, or otherwise that the 2025 premium increased to $44.90 I did, however; receive a shocking bill- AFTER the open enrollment period. In multiple calls to Aetna, the specialists failed to accept any responsibility for their lack of communication during open enrollment and failed to acknowledge that I do not meet eligibility criteria for SEP as they continually tried to pass me off to the SEP dept again and again, dismissing me with no regard. I am bound to pay until next open enrollment. I will never choose aetna for anything again. Never. Medicare recommends Wellcare. I look forward to moving my business to WellCare in October.\n",
            "45 -------- DO NOT TAKE THIS INSURANCE, (AENTA MEDICARE ADVANTAGE PREMIER PRO) OR TRUST ANYTHING ANYONE FROM THIS INSURANCE  TELLS YOU OR ANYONE FROM A COMPANY SELLS ADVANTAGE PLANS!!!  I have been on this insurance for 1 days and have been denied medication that I have been on for a year despite insurance people calling them prior to my changing plans. This company  takes advantage of seniors and does nothing  to promote health and wellness if it costs them money. I have been on the same medication with wellcare for over a year but this company denied it after saying the would cover it\n",
            " Now I have to go back to my old insurance but I can't switch back until April 1. It is March 1 so I am without coverage now for an entire month. DO NOT CHOOSE THEM !! They are horrible\n",
            "46 -------- Definitely not the best insurance provider out there. It did help me get what I needed done but my co-pay was pretty high I think and their providers are limited. But when it’s through the company you work for it will do to make sure you have insurance incase anything happens\n",
            "47 -------- I was in need of an ACDF surgery. My neurosurgeon set it to emergency status because I was one minor injury away from being paralyzed for life. I couldn’t feel my hands for two years prior. My right shoulder and arm lost strength before the surgery. I would fall at least once a day from loss of balance. Aetna had more than 14 days to deny me. The day before my life-saving surgery they denied me and told me that they didn’t have to give me a decision until 14 days later. By the grace of God my neurosurgeon forced them to cover me hours before my deadline. Their policies are dangerous. I am afraid of how many people they have hurt through these games that they play. Now that the surgery is done I will spread the word far and wide until they change their ways. Aetna is malicious.\n",
            "48 -------- Aetna is hands down the absolute worst insurance I’ve ever had and the only reason I have it, is because it’s our company’s insurance they offer. Thank the lord we are changing to a different insurance next year. First off, Aetna would not approve my partial knee replacement surgery. The doctor even did two appeals. They said I needed a full replacement even though I’m only 46 in great shape and had cartilage still. So since my knee was dislocated and was tired of being in pain I went through with the surgery. My doctor prescribed me 2 weeks worth of Tramadol, in which Aetna only approved 1 week and 1 week worth of oxy. I hated the oxy, so couldn’t take that and Aetna will not refill my 2nd week of Tramadol until it’s been 90 days! I better not be in pain 90 days from now and need Tramadol then. I need it to help with the pain now and help me sleep so I can recover. There answer to me was because people get addicted! Well what about the people that don’t??? I know more people that have had surgery that never have been addicted and never met one person that is addicted, so whoever they are basing us off of is ridiculous. You can’t fight with them, they just go by the script. Worst company for insurance ever. I used to think it was Kaiser, but not even close. Good luck if y’all have them for insurance.\n",
            "49 -------- If I could give zero stars I would. Aetna healthcare is absolutely the worst.  Case in point, I had spinal surgery of which the surgery was covered. However, the anesthesia was not. Really, I am supposed to have spinal surgery with no anesthesia? The latest, they no longer are covering my medication for MS. The replacement they suggested caused a major reaction. I had to stop taking that. I now need an MRI. I am trying to get that scheduled. Coincidently I received an email from Aetna address to me specifically with a facility recommended for that MRI - you know to save money.  I called Aenta trying to verify (because I don't trust Aetna) that in deed that facility will  be covered and is in-network. Contrary to the email i received from Aetna, facility not in network. Aetna is the worst!\n",
            "50 -------- Aetna won't approve anything and you cant even talk to them, you have to communicate through their screening service Accolade because they know they are crap and don't want to handle the dissatisfied customers. Doctor requested a MRI of both knees and I had to make two appointments with two co-pays because Aetna won't perform two MRIs in the same week. Aetna would not approve an MRI for the herniated  disks in my lower spine, a condition Blue Cross blue Shield had no problem treating and approving an MRI without 8 weeks of therapy and co-pays first. Aetnas provider list is not up to date, I try to make appointments off their list only to find out the provider no longer works with Aetna and I will be out of network.\n",
            "51 -------- Affordable premiums and copays, but I was given wrong and false information regarding Dysport which is similar to Botox.Aetna clearly  told me  on the phone that cost of  the injections would just be a copay.Five months later my Doctors office sent me a bill for over $400.\n",
            "52 -------- Had BCBS for years but thought we could save money by switching to Aetna.  What a mistake.  Worst medical insurance I have ever had in 30 years.  Needed an Urgent care for my son. Checked online for the closest In-Network Urgent care centers. Thank god we called as the location was permanently closed. Only found that out after looking at google maps.  No other close options were given for my address.  Called the 888 number for Aetna and had to listen to 5 minutes of crap to get someone on the line.  They did not know it was closed but gave me one that was not even listed and was closer. Wouldn't you think ACCURATE  Urgent care information would be important on your web site.  They also denied a claim I had after the doctors office told me they accepted the insurance.  The Doctors office accepted Aetna, Just not the Aetna plan I have.  Cost me $771 dollars.  Cant wait to leave this company when I can choose plans again.    Research Aetna before you give them your money.  They have been sued for excessive denials in the past and have not changed their ways.  Even if your primary is in network you will spend hours trying to find specialists that are in network and close to where you live.  We also found Doctors offices that accepted our Aetna plan, but the doctors within that office we wanted to see did not.  You must ask everyone you see if they accept the exact plan you have - you cannot just ask if they accept Aetna.  My daughter was going to college in Greenville NC and the closest primary doctor was  30 miles away, no General practitioner or OB/GYN.   My daughter also had an Urgent Care listed in Greenville that was listed online but was actually permanently closed.  This is all within the first 6 months of having Aetna.  I put my families wellbeing and our savings in jeopardy  to try and save a few dollars.  I worry constantly that we may have any emergency before we can get off of this insurance plan.\n",
            "53 -------- I’ve been an Aetna customer for more than a year and am leaving next month because of its terrible customer service.  Can’t get through in a timely fashion and have had to wait on line only to be cut off after long hold.  More times than not, cannot understand customer rep with poor grasp of the language, his/her job, and bad phone connections. Was hung up on after Medicare services rep and I were kept on hold for a hours. Choosing to not live this way any longer, I’ve signed on with another insurer beginning in August.  With Aetna’s premiums, service should be A or B grade level; instead it’s D or F.\n",
            "54 -------- I can safely say this new Aetna insurance I have is the worst insurance I have ever have.  They have ZERO customer service, I had a procedure denied, they wont even tell me why I called in multiple times and wasted hours and hours endlesssly transferred back and forth to different departments before eventually being told, I need to call Aetna directly.  Which is who I called first.  HORRIBLE all around, you should be ashamed of yourselves, I am going to leave as many reviews as I can.  By the way - I had only 1 procedure requested in last 2 years, and have been paying my premiums the whole time which you gladly accept, but dont offer any sort of approvals or customer service.\n",
            "55 -------- By far the WORST customer service I've ever experienced.  I won't waste time with details but I will say that I called them about 10 times over the course of a month (after I newly signed up) to get problems fixed with my online profile and each time I was either given the wrong information, transferred from someone who \"didn't handle it\" to someone else who \"didn't handle it\", I was told someone would follow up on certain things and then never did, I often got people who spoke broken English and I could tell they were looking up answers and then either making things up or giving me their interpretation of what they were reading, the list of PCPs on their website is very outdated (I tried 4 different PCPson their list only to be told that for differing reasons the PCP could not be used). When I asked about their list of preventative care that's covered they said there was no list.  I asked for some kind of outline instead and they could not provide that either.  Which makes me believe there are none, or they don't want to pay so they don't make it easy to find.  It was so bad that I decided it was better to risk going without health insurance then give this business another dollar, and I cancelled.  Then they kept half of my premium even though I didn't use the insurance at all because they \"assumed the liability\" during that time.  what BS.  I can't believe they are still in business. DO NOT USE CVS-Aetna!!\n",
            "56 -------- Worst health insurance I've ever had Aetna terrible My wife has to take a sugar pill to help her with her chronic kidney disease and they are denying her of it absolutely terrible since then she's been waking up with headaches and the pill was helping her out stabilizing her chronic kidney disease and since I've gotten this health insurance they denied her of help with the sugar pill terrible absolutely terrible I am so angry probably make no sense right now but just so aggravated and mad inside that this insurance company will not help us out The worst insurance company I've ever dealt with shame on these people\n",
            "57 -------- Aetna falsely advertises free preventive care. Please, pay attention to Aetna's billing summary!  Last year, my husband had a routine checkup and routine lab tests by his PCP's recommendation. Later, he received a $114 bill from the laboratory and we discovered that Aeta treated these tests as diagnostic tests.  We appealed twice to Aetna about this. However, they responded that it is considered a diagnostic test because my husband didn't finish his blood tests within 7 days after PCP was ordered. Since we didn't receive any information about the 7 days lab test policy from Aetna, we filed a complaint to California Department of Managed Health Care (DMHC), but they rejected our claim because Aetna is based in NYC. We filed a complaint to the Department of Financial Services (DFS) in NYC, and we finally got a response from DFS and Aetna saying that the lab test should be categorized as a preventive care except VitD test. As you can see, Aetna does their best to save money and try to deceive the customers!\n",
            "58 -------- My name is Tim Long I signed up with Aetna  back in Nov 2022. I've made several calls, waited hours, been told that my cards are in the mail, but its been months and still no cards. I didn't get my spending card either. This is not my first time with Aetna but it will be my last. Also my doctor is trying to schedule surgery to have defibrillator implanted and I've been waiting weeks for the approval. I am not satisfied with the service provided by Aetna.\r\n",
            "\r\n",
            "T\r\n",
            "Aetna sucks; there is no excuse for all the calling and waiting but never receiving insurance cards. \r\n",
            "Yes it's amazing how many hours I've wasted for no results. Having heart failure, the last thing I want to do is wait on the phone for a long time, and nothing come of it. And I'm not holding my breath and expecting the cards after this call to Aetna either.\n",
            "59 -------- Wow! Aetna has been a nightmare. I pay extra for the PPO plan so that I can see specialists without a referral, as well as visit out of network providers. The out of network feature is very important to me, considering a lot of doctors in the DC area do not accept Aetna (probably because it's so horrible), and instead, they operate on an out-of-network basis. As a result, I frequently have to submit my own claims. Unfortunately, Every.Single.Time. the claim is processed incorrectly. I then have to spend hours on the phone each week fighting with representatives for a simple reimbursement. It's to the point where expect it to take around 2 months and 10 phone calls to finally get my claim processed correctly. After that, it takes a few weeks to finally receive a check in the mail. To make matters worse, a majority of their customer service associates do not understand English very well. As a result, I have to re-explain the issue around 3-4 times before they finally understand correctly. Then I get transferred to someone else, and the whole clown show starts over again. All in all, Aetna is a joke. If they are going to try to operate in the United States and use an electronic claim form to make things easier, maybe they should invest in a software that actually works, as well as customer service associates who speak English.\n",
            "60 -------- Have to rate low. Didn't cover as much as Blue Cross has to pay more for meds and worse of all they covered a medication then month later I get letter that it was covered my mm is take and now I'm being billed 1700$ for these meds that pharmacy won't take back even if unopened they don't take meds back once they leave store.. I have to pay 1700$ because they covered medication that they weren't supposed to cover?? Who messed up me or Aetna? Now Im responsible to their mistake.. Wtf\n",
            "61 -------- Do not apply for this insurance!  Totally disorganized, couldn't even get a pain clinic referral straightened out, Medical Insurance so called \"helped\" me get a lifeline phone where I ended up with no service at all and ended up paying for a phone anyway. Referral to pain clinic from a city doctor in June and I still can't use the doctor I was referred to, website doesn't even work so, no customer service response because gmail isn't compatible, etc...  Had to change my insurance and still can't get in to the doctor I was referred to and we are now at the end of December.  This is how they take care of their disabled and elderly.\n",
            "62 -------- Customer service reps are not professional. You get a different answers about same question every time you call and problem never resolved. Reps  are not knowledgeable at all! The last one I spoke with had babies crying in the background. Hardly a professional environment.  Then I was put abruptly on hold presumably to quiet baby down. If you ask for someone  higher up in company to get an answer they say they can't do that. Probably because they are sitting at home not in an office with supervisors as professional  companies do. Extremely slow to get anything done  if they do anything at all. Last rep I spoke with said nothing was processed even though the last two reps I spoke with said it was in process!  I will not be a customer of Aetna any more .  They need to hire professional and knowledgeable representatives.\n",
            "63 -------- They are constantly bungling my claims. So far I have had to spend at least 15 hours of time over the last 5 months on the phone with them to sort out them denying my contraceptives, changing coverage amounts for prescriptions that my pharmacy has not been changing the prices on, using incorrect dollar amounts on bills from providers, and duplicating claims.\n",
            "\n",
            "I've asked many times to escalate or speak with supervisor and it's been months with no contact from a supervisor. They have used many tactics such as avoiding answering questions, cold transferring me to the wrong departments, as well as cold transferring me to various CVS pharmacies for medical (not pharmacy) claim questions.\n",
            "64 -------- This is how Aetna health insurance is trying to walk all over the little man again taking profits over health care for those that have paid them for it i.e., taking the premiums out of my paychecks. I am a teacher at our local technical college, and I suffer from a condition called Fibromyalgia which means that I feel pain at a tremendously higher level than the average person and there are several parts of my body that experience pain such as my hips, hands and feet. This condition inhibits my abilities in doing regular things like walking. I was in a wheelchair for years and got around in an electric scooter. I was a professional automotive repair mechanic for many years, now I teach our next generation how to repair vehicles. After seeing several doctors that could not do anything to ease my pain but give my addictive medications such as opiates that did not really help, I found Doctor Hana he worked with me to greatly reduce my use of opiates and started me on IV ketamine infusions that got me out of the wheelchair and up walking again. Now after covering these infusions for several years Aetna is trying to go back and deny this IV ketamine because they are trying to save money. I am appalled at this company’s complete lack of caring for someone in need. Please help me spread the word!!!!!! Of profits over people is happening again!!!\n",
            "65 -------- Aetna is the worst of the worst! My company basically forces me to get Aetna and I needed a Surgery that would help me breathe and they said it was not a necessity.. i did not know breathing wasn't a necessity! The doctor appealed it sent in pictures i gave in my statement how i am stuck in bed i miss work i cant go out etc and basically they didnt care, I know most people will say who cares but I pay top dollar for the top plan my company offers and for me not to be able to breathe out of my nose at all and to be throwing up all the time bc of mucus is not ok and if a surgery can help i think it is a necessity why should i live like this\n",
            "66 -------- After multiple instances of dealing with Aetna's customer service, I have determined it is one of the worst companies I've ever had to deal with on a purely customer service basis.  The \"logic\" behind their decisions--even after appeal, documentation presented, etc.--clearly demonstrates that the company isn't interested in helping its 'customers,' or anyone else but itself.  The company is only driven by its bottom line and profit margins and has no interest in listening to the reasoning, requests, or demonstrated needs of its customers.  I pay several hundreds of dollars/month in premiums to this company...I'm far from a freeloader.  The treatment I've received by the company is beyond bad.  The processes they have in place are designed to exhaust customers and to prevent any objections to their decisions simply because of the red tape involved.  If I had the option to give zero stars, I would.  In fact, I would give negative stars if that were a thing.  I cannot express how terrible this company is  with words.\n",
            "67 -------- For this year we switched from Univera to the medicare ppo plan. We regret the switch and will probably go somewhere else next season. The Drug coverage of the plan is a joke. We get considerably better prices from GoodRX or the Canadian pharmacy. \n",
            "Their web site is convoluted and you have to spend hours to find answers-if any! For example we could not find any dentist that would take Aetna in all of Western NY. Their phone customer service is good.\n",
            "We also keep getting calls from Aetna contracted people trying to come to your home for questions and surveys.\n",
            "68 -------- Aetna is not a realiable company, terrible in communication and doesn't care about their customers.\n",
            "I had to pay hundreds of dollars for lab works, simply because I wasn’t informed before the visit that aetna wasn’t going to cover them because of this specific lab work facility.\n",
            "They could just tell me we don't work with this provider so take your lab work to Quest for example. That simple communication would've save me money and make me satisfied customer instead.\n",
            "I was told to follow appeal process wich was a total waste of time. \n",
            "Not sure why they want these paper forms mailed instead of being communicated electronically. No wander why it took over 1 month for them to respond my appeal.\n",
            "Wish I had a choice for another healthcare provider with my employer.\n",
            "69 -------- Aetna is JEOPARDIZING my health and future. Don’t understand why they are making it so difficult for an MRI to be approved. I need this asap in order for my doctor to understand what steps to take in order for my arm to have mobility again.  I’ve been on the phone with Aetna since 9:00 am, it’s 11:49 Am and I am still on hold. I am in a lot of pain from my arm complications and here I am trying to get an MRI approved. I submitted an appeal to a voicemail. Yep, if you want to submit an appeal you have to leave a voicemail.  Health insurance is a fraud. They take your money and make it difficult for you to get the best care possible. AETNA YOU JUST WANT OUR MONEY, right?! But don’t want to provide the benefits our money is paying  for!!!\n",
            "70 -------- I am appalled at the poor service of this company,  I spent over SEVEN hours on the phone trying to enroll or reenroll (deepening on whom I spoke with ) in partD  Drug Plan. I spoke to so many people that I lost count.  Everyone told me something different.  We were enrolled, we weren't, we would be, we owed money, we didn't owe anything, they would send confirmation but when I gave them the confirmation number, they  couldn't find any record.  I was transferred so many times. It was the. most painful consumer experience I have ever had.  I am a retired lawyer and years ago, Aetna was a client of my firm.  If I were still there , I would fire them.  Someone ought to have a look at how they operate.\n",
            "71 -------- Just got my wife set up with Aetna purchased through DOD NAF from my new job.  The policy is for myself and my wife. But as a veteran only my wife will be using.   Aetna denied every one of her prescriptions some of which were generics which Aetna wanted replaced with other generics.  Some were to be replaced with notably less effective drugs with significantly more side effects.   This is the third time we have had Aetna.  It has been a sh@$ show every time.   We have had to call the pharmacy customer service line 5 times and each time there is a very polite person reading the same script about how they’re going to fix it.  And then we review the prescriptions and they are wrong.   Some of this involves emergency local prescriptions because my wife was supposed to have coverage beginning the end of 2021, but the didn’t her into the system until February.    Her emergency prescriptions have still not been filled.\n",
            "72 -------- I switched over to Aetna on Jan. 1st. It is a complete and total disaster. Apparently, they have outsourced all of their customer service to the lowest bidder. If they call you your caller ID will identify them as spam. If you pick up the phone you won't be able to understand a single word that is being said. Website is a much bigger disaster and must have been designed in the 1980's. Nothing about your account balance or payment due date is there. They ask you to order prescriptions online, but you can't do it. I can't wait to get away from Aetna. This was a huge mistake on my part. Don't make the same one. Don't flee from this giant glob of incompetence run from it at full speed. You'd be better off trying to use Good RX or another free service than dealing with this pathetic mess. When is the next open season - I can't wait?\n",
            "73 -------- Customer service really needs improving because they like to pass the responsivity of a bad issue to the customer, and that's just wrong. Etna and I went around and around about a situation where a Rep. never asked me what card to pay my meds with. I told him NOT to put it on one card in their system, but to put it on another card and I furnished the card info. He , later in the conversation, asked what card did I want to use,  but he never asked till the end of our conversation. I had to repeat myself and he still screwed it up. It took me two plus weeks to get the whole thing fixed. In the mean time I had no money to pay my rent because it was a chunk of change for the meds. I was charged twice, two different cards, for the same Rx, then had to fight like hell to get it back. Still no apology from Etna accept an email saying that it was my fault.\n",
            "74 -------- zero stars is more like it,  I have had worse but not by much, they have zero in network providers within 60 miles of me, and even then when I try and call the ones from their site their list is so old and out of date 90+ % are phone numbers that are a dead end, person no longer practices, moved to a different clinic etc etc. when you call for help finding a provider the call center is in India and you can't understand much they are saying but you'll give up shortly anyway after they offer no help and tell you to just see an out of network provider at my expense since they cannot find one. trying to get a hold of someone for pre-authorization of tests is impossible, Ive called dozens of times and never once reached a person that could answer a simple question about coverage for a specific test.\n",
            "75 -------- So i schedule an appointment the doctor office/ urgent care for COVID rapid test. This is the closest place around that offers it. They  do virtual visits and then have you pull in line to get your COVID TEST.  You know for everyones stafety. Aenta wont let you get the COVID TEST on the same day as the virtual meeting, instead it has to be order up and requested for the next day. However Aetna does allow you can get the flu and stripe  same day. This doesn't  make since to limit Covid test. If I wanted the test today I could pay 125 out of pocket and then try to fight with insurance to pay me back. I have a PPO plan so I don't have to pay out of pocket. My insurance should cover this without having to jump through hoop. The point of the virtual  visit is to keep other safe so they can do their jobs and to not spread  the virus.  Without  having the test to confirm what I have, then doctors can't treat it. You at literally  putting my life at risk by delaying the test.\n",
            "76 -------- There is very little to like.  I've appealed a claim twice that Aetna refuses to pay.  Aetna has repeatedly failed to acknowledge the error it made - which was Aetna did not provide a procedure quote to my doctor when it was requested by the doctor; had they done so, I would not have had the procedure done as it was almost 100% paid from my pocket and very expensive.  Aetna hides behind its process, shuffles people back and forth between departments, and provides pages and pages of narrative without actually resolving the problem.  And you can't actually speak to anyone during the appeals process - Aetna doesn't even provide a phone number.  My employer has selected Aetna and I've been forced to use them for about 30 years over which time I have paid them ridiculous sums of money because my employer does not subsidize my insurance premiums.  I've rarely made a claim and when I did, the claims were insignificant.  This year when I actually had to have some expensive procedures done, Aetna didn't support me, the patient.  I will continue to recommend to my employer that it drop Aetna.  For a company that reported more than $1.7 billion dollars in net income last year, it's appalling.  Aetna clearly cares more about making money than it's customers.\n",
            "77 -------- I am a current customer and I am beyond frustrated with this insurance company. I always have to call customer service to get my medicine approved even though my doctor said it is medically necessary for me to have the medicine. Atena also took 10 days to preauthorize my MRI & now they are denying my surgery stating its not necessary. Currently I can't sit for more than 10 mins, I cant walk far and I have a Limp, and I can't sleep through the night because my back and knee is hurting that bad. I guess this insurance company would rather I become crippled and have to pay for insurance claims the rest of my life instead of approving my back surgery. What ever happened to Quality of Life ?\n",
            "78 -------- I would NEVER recommend this Medicare insurance.  My sister was in the hospital for 83 days with renal failure \n",
            "Drs finally recommended an LTAC ( step down) denied.  Ended up back in ICU \n",
            "Attempted multiple times to get skilled care.. denied  Ended up fracturing a hip\n",
            "I hold them indirectly responsible due to the denial of PT/OT in a skilled facility \n",
            "After 83 days of hospitalization and a hip fracture and dialysis 3 X a week she has been in a skilled facility 1 week today, they are now denying further coverage.  She is so weak and fragile from the lengthy hospital stay, dialysis and hip fracture it seems insane to deny PT/OT for strength and balance. In the process of appeal.  I have been her POA for health care and am fatigued from the fight with insurance.  When you really need them they will deny.  Many Case Managers and Drs have informed me that they are the worst to work with.  Please stay away from Aetna.  My husband and mother both had strokes and were provided skilled care without hesitation.  This insurance company holds no value on the life of a human \n",
            "They are all about profit.  I am trying to warn as many as possible.  I am a retired RN.  I could go on but I will spare you.  This has been a fight for her life, with every step and there is no end in sight. Please avoid Aetna, they will deny you when you need them the most!\n",
            "I would rate them lower if possible\n",
            "79 -------- Researched for months before choosing either a supplemental or advantage plan.  So far this is the worst plan I have ever had.  Everything is OUT OF POCKET.  Drugs aren't being paid, office visits not being paid.  All my expenses are going to out of pocket, deductibles,  etc.  I would be better of paying a monthly premium and going with a supplemental plan.  STAY AWAY FROM AETNA!\n",
            "80 -------- I had a problem with my insurance and Anjell from Aetna helped me to resolve my issues. She was amazing and very careful. Thank you so much Anjell, 5 stars for her.\n",
            "81 -------- My first negative experience with Aetna came when I needed to change my cholesterol medication because it was causing leg pains. They would not authorize the alternative prescribed by my doctor and so I have had to live with the leg pains.\n",
            "\n",
            "My worse experience came because I need surgery for BPH. There is a new treatment called water jet ablation that has been around for several years and which has shown very effective results. They refuse to cover that treatment and insist on the much older TURP procedure which carries a 95% chance of permanent sexual dysfunction and a high risk of incontinence. They hide behind a insurmountable wall of bureaucracy, and think they know better than the doctors or the patients what is in the patient's best interest. Their premiums are very expensive, and for what ? Second rate coverage and a complete lack of compassion or caring for the patients.\n",
            "82 -------- I could not justify a two-star review. My husband has had Aetna with various companies over the decades (medical, dental, and vision). I have very little regard for Aetna for health, vision, or dental. It all stinks. Who are they kidding? If only the big companies who try to save money using Aetna would just see they are getting really lousy service for their employees, maybe it would bring about change. Among my reasons for a poor review: lousy network and lousy costs coverage. Aetna says they save us so much money on the premium vision plan, but it is entirely dependent upon premium prices to begin with. I much rather prefer VSP. I can't dislike Aetna enough. Big companies - stop thinking you are providing a great plan for your employees! Additionally, Aetna's slow transition into the 21st century astounds me. \n",
            "\n",
            "Their website is clunky and unintuitive! Even years later, there is very little progress. For example, on my search, if I search using a zip code, shouldn't it default to the nearest being within the zip code first?!  Is this the 90's? How do they even exist? Is there really any competition, else why would a company choose Aetna?!\n",
            "83 -------- I've been trying to get reimbursed for a dental procedure for months, first they sent the check to the wrong address,  ok I was patient,  next I was told that I would get the check reissued and it would be 14 days, I've talked to 3 different employees telling me the check would arrive in 14 day's,  that was 6 weeks ago, no check, I called and the last employee in formed that the check for my dental work was being processed and to give them an additional 21 days, in the meantime I have payments to make to the finance company that gave me the loan for my dental work .this is all quite inexcusable , yhis is the worst insurance company i have ever had the displeasure if dealing with, i know they are owned by c.v.s pharmaceutical,  I will be complain to their corporate headquarters if I don't get the reimbursement soon !\n",
            "84 -------- Aetns took over Silverscript Drug Prescription Plan.   Both my husbanf and myself have the same PDP.  We received 2 invoices in January and paid with 1 check.  Now, I received a letter that I eoll be disenrolled for non-payment of premium.  What?  My husband  called and said hr psid. Thr person from India, Niel,  a womsn said the check was not posted yet; that he should keep calling back every week to check.  I called the bank and it was posted 2 days ago.  I called and sokr to Jam from India and she went over both accounts and said the 1 check paid 2 months on my husbamd and none on myself. Shr said one check is allowed per account. 1 check cannot pay 2 PDP's.  I was outraged as I worked for Bankers Life and Blue Cross anf one check could be applied for multiple insurance policies.  I then had to pay another month to mskr up for the deficit. No one called to tell us this and the 1st rep lied about the check not being posted.   Onr phone call or letter would have prevented thid.  Considering cancelling both policies.\n",
            "85 -------- If only I could give less than one star...they will do everything in their power not to cover your medical bills. Had a skin cancer during COVID. First time I showed up for the surgery, I had a fever and had to get tested for COVID. I finally got the surgery after my surgeon had asked a pre-authorization to Aetna. It has been months and they have been denying every single one of my claims, because the Physician who saw me for the COVID test supposedly has not provided them with medical records and \"it's all related to the same condition\" according to them. Well...not exactly. Cancer has nothing to do with COVID. They are also saying that my surgeon did not obtain pre-authorization for the surgery. I guess with this insurance, you are supposed to stay with cancer for as long as your insurance will deem acceptable...until they finally wake up and decide to give you authorization, or not. Pretty unacceptable. Already got another insurance and I would never recommend them\n",
            "86 -------- Sent a shifty insurance agent to my mother's home where I was convalescing from a head-on collision on my motor cycle with a car whose driver had Aetna Insurance. The agent who visited me told me it was not her fault, but because they're nice people, they would repair my cycle and pay my medical bills. I mentioned the clothes torn up in the accident as well as having to be adjusted to fit over my injuries. They would pay for that too I was told. Then I mentioned I would be unable to go back to work (I was working the summer between my freshman and sophomore year) and the man agreed to pay my lost wages. Being high on pain killers, I was not able to reason clearly so when I ran out of ideas, he had me sign the papers, I signed away my rights. I was unable to return to the judo team and have had problems with my leg over the years. Accident happened July 28, 1968. Unscrupulous, cheating company and I would never consider using their services.\n",
            "87 -------- I highly do not recommend this insurance provider. As a business owner, I have been waiting since January 30th, 2020 for this company to signed the other half of the contract. Everytime I call and ask why I have not received a signed contract or in network with them, they give me all types of excuses.  I have called over 10 times and each time I get the run around game. Its exhausting! I will continue to advocate for my clients. Out clients are depending on us for counseling services and this company does not even care. So, I will encourage all of our clients to leave this insurance provider and find another insurance provider. No person or company should have to beg or plead or get treated this way. We did everything we were suppose to do, and still they continue to mislead and disrupt our services and the lives of others. Shame!\n",
            "88 -------- DO NOT CHOSE AETNA! They advertise one thing, but lie. I had a health concern, but didn’t really now my benefits so I called the Aetna health concierge. She told me my visit would be FREE, no cost to me  (this call was recorded) and gave me 3 locations I could go for this visit. I went to the first one. Turns out I was given wrong information and 2 months later I’m left a $1350 bill!! I called to dispute it, they were able to pull the recorded conversation and confirm I was told the visit would be free. They tried to point fingers at anyone else but themselves. They said I should know my plan better?!?! That’s why I called the Aetna health concierge!! They are impossible to get into contact, wait on hold, calls get dropped, “well call you back” never happens, “I’m working my hardest on this” nothing happens for weeks”.\n",
            "89 -------- I have the misfortune of being stuck with Aetna as my health insurance provider. Before I went in for my foot surgery, I called them to verify that the four different surgical procedures that are going to be done on my foot are covered under my health insurance plan with them. They said yes. I felt silly for asking, but I also queried whether there will be problems with me having all four different surgical procedures done in one operation. They said there will be no problems. After I had the surgery, Aetna said that they will cover only the first surgical procedure, and they consider the three other surgical procedures as part of the first one, so they are not paying for those. I have appealed, and they continued to say that the will not cover the three other surgical procedures. I could have had the four different surgical procedures in four different operations, with four operations costing $100,000, or I could have had the four different surgical procedures in one operation, with the operation costing $20,000. I went with the latter, and I get the shaft because of it.\n",
            "90 -------- Review of prescription coverage for Aetna Coventry ...I'd give Aetna \"0\" if that were an option.  I had a mail order prescription with 6 future approved refills - and placed an order at the final use of that first prescription.  Order taken and nothing delivered.  Called after two weeks of nothing ...only to be told the Dr. prescribing the prescription did not respond to Aetna's unneeded inquiry - which Dr's office denied.  Requested Dr.'s office to regenerate mail order prescription - still no delivery.  Upon calling Aetna a third time, they wanted ANOTHER confirmation from Dr - which was again provided. By this time I'm out of my heart medication and subject to stroke.  Dr. office agreed to an emergency supply and called local pharmacy - which claim was denied because mail order process had been initiated.  After two attempts with pharmacy and Aetna - Aetna would NOT override full payment required with plan's coverage as \"Aetna's mail order was not the cause of the delay!\"  I'm still without medication 5 weeks after previous subscription expired. \n",
            "\n",
            "Throughout this trail, Aetna's representatives were nice but unable or not empowered to assist me as the customer ...and they would not submit the request to a higher authority because the higher authority had already ruled on the issue.  I would NEVER recommend subscribing to Aetna Coventry.  This is not the first, nor only prescription Aetna has fouled up the delivery.  It's not worth the hassle to work with this kind of callous incompetency.\n",
            "91 -------- It is open season for many people to be shopping for health insurance.  Buyer Beware!  We have had the same negative experience with Aetna as I have noticed others on here have, especially when it comes to a major medical cost, and isn't that the purpose of health insurance?  They have been denying and stalling a necessary surgery for my husband.  Their denials are weak and blatantly wrong, saying he doesn't meet all their guidelines when his Doctors and us can check off every requirement on their check list.  Like others have said, they say you can appeal or pursue a civil action.  Really?  We need a lawyer to get them to pay medical bills?  What is their insurance for?  Our Doctors and us are completely frustrated and worried for my husband's future.  We are confident they are responsible to pay.  And we believe they know that as well, but they are pulling every string to stall which could mean permanent disability for my husband if he can't get this surgery soon, potentially even wheel chair bound.  This is criminal behavior and we are in the process of filing a complaint with our State Insurance Commissioner.  Getting your health insurance to pay what they promise to shouldn't be this painful.  Health issues are hard enough without this fight!\n",
            "92 -------- I received a bill from my doctor for the bloodwork I had done for my annual physical. When I called Aetna, they told me it was denied because I didn't have the bloodwork done in the required 7 day period. I went 10 days after my physical appointment because I already had a scheduled mammogram at the same place and didn't want to miss more work. I explained that I was never informed that the bloodwork had to be within 7 days of the appointment as I have never had Aetna before and asked for an appeal because they could see I did both on the same day. I then asked for them to send me where it is written in my policy that I had to have the bloodwork done within the 7 days. I was then informed that it is not written in my policy. The 7 day rule is an internal rule. I asked for an explanation of how they can penalize a customer when the customer has no idea of this policy. I even called my doctor's office and they have never heard of this before. I am currently in appeal about this but feel something should be done about an insurance company basically scamming it's customers. If you are going to deny my claim because you say I didn't follow the rules, then you should be telling me the rules!\n",
            "93 -------- Just as others have stated if I could give them a 0 rating that’s what they would get from me. I was in extreme pain with a neck injury and all the doctors said I needed surgery and they said that they didn’t feel that it was  - even after review, they said muscle spasms were not a reason for surgery MUSCLE SPASMS???? What I had was way worse. As soon as I could I changed to UPMC  they didn’t blink an eye no argument they paid for it. The doctor told me that he didn’t understand how Aetna could get away with denying a surgery that I needed so badly - a three level neck fusion- and now I am scared for my husband who has recently been diagnosed with cancer . I worry that they won’t approve his treatment . I have no use for Aetna and we have been forced back to them by employers. I worry every day now about medical issues because Aetna is fine with the small stuff but something big happens and they refuse to pay . They disgust me.\n",
            "94 -------- I have been with them through my employment for over 12 years. I am in general happy with them. However of late, the prescriptions have been a problem. Getting paid and approved. I also am not happy that lab work is done through a 3rd party - Lab corp that I now have to pay.\n",
            "95 -------- I have orders that are in pending stages for days, and sometimes well over a week. These are orders that are flagged with messages like \"we are checking inventory to see if we can fill your refill\". How vague is that? This was 5 days after the order was placed. In the meantime, for some refill orders, you get random voicemails to call them back, and when you do, they dont need anything from you. Then you have some orders that just dont get processed. Nothing. You log in to check on the status of an order from 2-3 weeks prior and it shows cancelled. You call, and they give you some excuse like the credit card couldnt be processed (it could) or most commonly, they need to update the verification from the doctor (which the doctor's offices just shake their head at). Aetna is a joke, their processes and customer UI are absolutely horrible.\n",
            "96 -------- Only gave Aetna star because you give less. My experience with Aetna is that Aetna is the absolute worst insurance that I’ve ever had ,and I’m 60. I can’t get an MRI  3 times now in the last 3-4 years when 2 different doctors have asked for it (different things wrong) and they refuse to pay any on a medication i was prescribed, and I bought my cpap supplies on line at amazon cheaper than I could get them though Aetna. Extremely the worst insurance out there .But the company I work for got Aetna because they got a good deal , they don’t care what we got to deal with because by law they have to offer us insurance so they got the cheapest one they could fine . Cheap for them ,terrible for us .\n",
            "97 -------- I was scheduled to have surgery on my cervical spine after doing everything else to help with the pain like physical therapy and taking years of pain pills and muscle relaxants. My right arm stays tingly, so it's now affecting my nerves and dangerous when I drive cause I have limited motion in my neck, however they denied my claim the day before surgery (after I already paid the doctor portion and did my pre op), I had everything arranged through my work and other people on taking care of me during the recovery time. The insurance knew 3 weeks prior to surgery, but chose to wait the day before. I'm trying to avoid a life on pain pills and pain. The insurance has no problem taking my money, so I'm covered, but refuses to use money to help make me better. Terrible insurance!!\n",
            "98 -------- I'm not sure how people can call this a good insurance plan. I am paying 45-55% out of pocket and can't afford to go to the Dr. anymore. They also taut their website as being the best, but I have a huge problem finding the right providers. I am searching for a provider, they don't exist. I try to find a hospital, I don't know how to spell the name, and if I search for it another way it comes up as #1 result (spelled the exact way I did ????) Then I try to use the filter which does nothing to the search. I tried by distance, returns are random, I tried by affiliation, results are random even though I am looking for Dr. in the hospital I chose. Then I said, ok I can narrow it by female vs male doctors and the results are both male and female doctors. How can a national company screw something like that up? I will switch ASAP and never look back. My family is suffering because we can't get simple care due to the cost of coverage. I pay $1000 out of pocket and my work pays an extra $800 and I pay 45-55% of the bills and my family limit is $9000 a year before they cover it all? How is that a good insurance plan? Some of the 5* comments are extremely general and repetitive. I expect paid for or bot written. Read the less than stellar reviews and you get a better picture.\n",
            "99 -------- I was picking up my prescription when the Pharmacist told me that she couldn't fill it due to Aetna's  abrupt (without any notice!) change in the way they cover prescriptions. She gave me a piece of paper from Aetna saying that I could get my prescription mailed, or go to CVS to get it filled. Since I was standing at Safeway, where I've filled the same prescription for the past 10+ years, I had to waste my time calling them to 'opt out' of their new way of wanting me to get my prescription filled. I had to waste at least 20 minutes of my time to ensure I could continue doing the same thing I've been doing. I'm paying premiums to this company to be inconvenienced?? Really?? Really, really not impressed!!!!\n",
            "100 -------- Most inept company that I have ever dealt with.  Nobody knows what they are doing.  Have to call numerous times to get the smallest thing fixed.  And when you do call, you have to explain  your problem all over again because these losers don't have any way to see that you have called numerous times and see that no one has fixed any problems that you called about. \n",
            "Finally got the problems fixed, paid for the year so we don't have to communicate with these no talents any more, and then they call today to tell me some other problem from the beginning of the year was their fault and was fixed, but was already repaired over a month ago.\n",
            "Once this year is over, I will never buy another Aetna product again.\n",
            "101 -------- My company switched the insurance company into an Aetna international one and not only me but I speak for the rest of my colleagues at work we are very dissatisfied.\n",
            "\n",
            "Every time I make a claim is rejected with no further explanation. So I have to take my time to call every time to find out the reason why. Sometimes I have to submit the claim twice or three times because they kept changing their mind on the information I needed to enter. \n",
            "\n",
            "I just told my company I would like to switch back to Aviva which it has a better service and always payed the claims with no problems.\n",
            "\n",
            "Please stay away from Aetna insurance company.\n",
            "102 -------- This is a horrible company. The amount of time you have to wait to get you payment is RIDICULOUS.  The whole point of having this is so you don't get behind in bills while out of work but the time it takes to get paid is so long that getting behind is a guarantee.  I'm still waiting to be paid and am now facing eviction because of it. I called and told them this and even tho I have been approved, I was told there's nothing they can do to quicken the direct deposit and that it will take another week for payment! Unacceptable!  My family and I will be displaced by then as I have a max of 3 days to move out from the premises. My wife had disability once for maternity leave and the entire process from start to finish was HALF of what I've already been waiting. Be warned, this company is a joke!\n",
            "103 -------- I had this insurance while I was in the U.K for two years.  They always were able to get me into a place where I would be taken care of.  I had coverage for every issue I ran into while I was there.\n",
            "104 -------- We currently use Aetna for our health insurance. I have never had a bill not paid by them and have never had paper work. Its all taking care of by my doctor. This company is great.\n",
            "105 -------- Aetna insurance is really good, especially the higher-up plans. I  pay 10% they pay 90%. It's awesome because my out-of-pocket maximum isn't very high, so prescriptions and Dr visits are almost always free after around June. It can be a more expensive plan, but to me, it's worth it!!\n",
            "106 -------- This is the insurance that is provided through my employer and i have both dental and medical coverage. This insurance is accepted in plenty of doctors’ offices and comes with lists of what is covered and what isnt\n",
            "107 -------- I have had this insurance for the past two years. They offer different plans that work accord to my needs. Additionally, their network is easy to navigate and find the right professionals for me.\n",
            "108 -------- The insurance coverage I had was good. As long as you chose the plan that meets your needs it will be good.  I chose a good plan of the ones elected from my company and it provided good coverage.\n",
            "109 -------- We have used AETNA for the past 5 years.  We are impressed with the variety and levels of coverage offered.  The online account access is easy and user friendly.  Thank you AETNA for helping keep us healthy!\n",
            "110 -------- We had Aetna Insurance before my husbands employer switched to Cigna.  We loved it and felt the rates were reasonable, coverage was good, customer service was responsive and helpful.  We were sad to have to change providers.\n",
            "111 -------- I had Aetna for a couple of years and thought they did a great job supporting us as we needed to use them.  They were responsive and quick to pay.  They didn't have as large of a network in my area as I would have liked but we were able to make it work.\n",
            "112 -------- I used Aetna while abroad in Indonesia for a few years. I was able to get coverage when visiting the several different hospitals. I was impressed that it was accepted out of the United State. The organization I was with provided the insurance.\n",
            "113 -------- Aetna I recently just got, and I was a bit disappointed. They are not as good as some other health insurance companies I have had. My prescription that I take monthly was significantly more than what I wanted. As a college student that is a bit hard on my budget.\n",
            "114 -------- Aetna has been a good health insurance for us.  We have had many different kinds of insurances because of different jobs and Aetna is one of the better ones.  Our monthly payment is pretty good but the best part is we were able to keep our same doctors.\n",
            "115 -------- At a previous job we were covered by Aetna.  I was pleased with the price but a little turned off by the network of providers.  That is the only reason I am only giving 4 stars.  We had to switch our Pediatrician because of him being out of network. Other than that, they were great!\n",
            "116 -------- Aetna is a great insurance company with good, comprehensive plans at fair prices. My family switched from Select Health to Aetna a year ago and the difference has been drastic!\n",
            "117 -------- I didn't have to use Aetna much when they were my insurance providers, but they were always pleasant and straight forward to deal with. I never had to wait more than 10 minutes on the phone and my issues were always addressed quickly. Their autobilling always went through with no problems.\n",
            "118 -------- I am a first-time Aetna user. The network isn't great in my area but they have so far been easy to work with. I did, however, just get a denial on a visit I had. Perhaps I am doing this review a little prematurely. My mind may change once I talk to them about my visit that should be covered.\n",
            "119 -------- High priced with average coverage.  I felt like what I was paying during the time I had the policy was way to high considering that I had a higher than average deductible.  Once I shopped around for different coverage I quickly found that I could get a lower deductible at a more reasonable price.  I didn't have a negative experience with Aetna, just the pricing was an issue.\n",
            "120 -------- We had Aetna for our Health Coverage for many years. Never had any issues with them but I was never blown away. I did feel like they always paid our claims in a fair way and if I had any questions they were quick to resolve them.\n",
            "121 -------- I currently have a different insurer but I wish I still had Aetna. When I delivered my first baby they took so much of the expense off my shoulders and made the payments so easy and painless.\n",
            "122 -------- I also had this for my health insurance with a former employer. Again, they covered just about everything I needed - even an urgent hospital trip that resulted in about 2 days worth of staying. The pricing wasn't bad at all, but I also was only paying for myself, no family plan.\n",
            "123 -------- i have had Aetna for over 8 years really good health insurance and customer service always willing to help even contacting the medical offices them self in case their is an error on how insurance got billed.\n",
            "124 -------- I currently have Aetna and I have been very impressed with them. They have a large network of all different kinds of doctors and have always been there to answer any questions about any claims I have.\n",
            "125 -------- My last 3 companies use Aetna. they have always handled my claims swiftly and competently.  competitive rates and they have a huge in-patient Dr. list that always fits with my Drs.\n",
            "126 -------- I've been extremely happy with my health insurance coverage. They have great customer service and AETNA is accepted pretty much everywhere. They have several different plans to choose from that fit pretty much any budget.\n",
            "127 -------- Overall, Aetna is good. I've received a few bills after hospital or doctor visits that seemed more expensive than should be after insurance, but otherwise, copays are about the same visit-to-visit. Aetna has a great in-network portfolio to utilize as needed.\n",
            "128 -------- Great provider!  Customer service was always available and wait times weren’t more than 15 minutes.  I’m a lupus patient and they covered most all of my meds. The only negative I would share is issues with claims.  I was in a car accident and Aetna covered medical cost after my co-pay and deductibles.  Since I’m receiving an under insured payment from my car insurance company, Aetna wants me to pay them back for the medical coverage.  That’s crazy, why am paying insurance if I still have to cover my medical costs from an accident that wasn’t my fault.\n",
            "129 -------- I currently have a health insurance plan. They are great to work with and make sure that when you call you know your benefits before you go to a Dr. that happens to be out of network. They are great to work with.\n",
            "130 -------- I had Aetna just for a short time because my company ended up switching, but while I had them, they made billing so easy. They always had it coded right and were always so willing to help me when I had questions!\n",
            "131 -------- I used Aetna insurance while in Colombia volunteering.  I had to call them frequently and they were always helpful and allowed me to get the volunteers into good hospitals.  They required a ridiculous amount of paperwork on the back end that was overwhelming and excessive.\n",
            "132 -------- We had our second child under Aetna and it wasn't the best experience. We hadn't had any problems before that with Aetna - great copay and prescription benefits.  It just didn't seem like the hospital worked very well with the insurance company.  We payed up front for our baby and then were sent so many bills afterward, claiming they were going toward our deductible too.  It was just much more confusing than it needed to be.  But all in all, pretty great service!\n",
            "133 -------- I am a provider and it is so hard to understand the customer service representatives who know nothing about everything when you call the provider service line.. They can only tell you what the screen tells them and nothing more or nothing less. God forbid if they tried to think on their own.  Horrible provider service !!!! Please bring back this portion of your compnay to the USA!!!!\n",
            "134 -------- I am a Medical biller for a medical practice.  I also consult with a senior board advising new Medicare recipients on Advantage Plans.  I have to say Aetna claims processing is the worst of any Insurance provider. I also found, for this reason alone more practices are leaving Aetna due to overload of work generated by your claims processing system. As for seniors looking for Medicare insurance, I direct all Medicare recommendations away from Aetna. Start listening to providers and patients, unless profits are your only agenda.\n",
            "135 -------- Aetna is reliable and a great provider of information related to your individual needs.  Their customer service has room for improvement, but overall, they are very good.\n",
            "136 -------- Aetna was the worst health care provider I ever had. They do everything in there power to cheat you out of health care. They recommended me to use a lower cost MRI. One of the places was out of business and the other did not accept Aetna. I went to a participating surgeon and was denighed insurance coverage by Aetna. They are a very expensive horrible awful medical insurance!\n",
            "137 -------- Prescription coverage is terrible. I have BPH, had the prostate biopsy, was prescribed an FDA approved medication for which there is a generic version that works well for me. The pharmacy said Aetna won’t cover it. I bought it with a coupon for $18 for ninety days supply. Won an appeal against Aetna with help from urologist, they still won’t pay for it. Going to cancel Aetna, they do not follow FDA and doctors recommendations, what is the point of paying for insurance when they won’t pay for prescriptions?\n",
            "138 -------- Aetna is the worst insurance company I have ever dealt with in my entire life. Don't even bother calling asking for help, they will refuse to help you and direct you to the website. They sent me on a wild goose hunt for 2 hours only for my physician to tell me it was indeed, their responsibility to help. After 2 hours of nonsense, they were able to give me 0 information. Would give 0 stars if I could.\n",
            "139 -------- Regarding their customer service phone line, it is non-existent. I called to question a copay and have been on hold for 47 minutes. Maybe their plan to avoid having to actually provide customer service by not answering the phone. Absolutely unacceptable to leave an elderly person on hold for almost an hour. I guess once they have your premium you are on your own.\n",
            "140 -------- Claims processing is not good, so many errors while processing claims for pregnancy delivery. Need to call so many times. Poor customer care some are dumb some are smart to handle the calls. My experience is not good with them it wasted of time for me. Not sure how this company working without good claims processing, I pity future customers.\n",
            "141 -------- Worst healthcare experience of my life. Transferred 5 times and over an hour on the phone and the agent that said he could assist, could magically assist after I asked his name and employee ID number. All from a migraine saving service that Aetna denied and should have paid for. I wouldn't have had to call if they did their job. My deductible is met and now they won't pay for care.\n",
            "142 -------- Customer service is rude, insensitive and down right intimidating.  They deny all surgical claims unless it has the word Cancer in it and you have fight for the benefits you pay for.  When I pointed out ACA regulations and caps to them, they told me to get a third party to handle my claim.  The bottom of this box has \"amazing\" in it I would never rate Aetna it is less than even a star!\n",
            "143 -------- My experience has been a nightmare. They denied my prescription for my RA.  I failed 10 drugs before we found one that worked for me. Two appeals later and it was approved. The cost $1400.00 a month. I have now been without meds for two months while dealing with this nightmare. I would not recommend this insurance to my worst enemy. \n",
            "It was not my choice to get this insurance. This is what my husband’s employer switched to from Blue Cross Blue Shield. They were fantastic and covered everything.\n",
            "144 -------- aetna  lies to there  insured . My story and you be the judge. Three months ago my Primary Doctor called me the Aetna was dropping them from their Network. I called to find out what was happening because I have had my Primary Doctor for the last 15 years. aetna said that wasn’t true and for three months they lied I just got a letter with less then 10 days to pick one of two doctors from the letter.Not alot of time. I picked another Provider Named Simple Compete. Shame on you aetna  for blatantly lying to your insured. Stay clear of these Aetna\n",
            "145 -------- This is the worst health care company in the US.  It gives US health care a bad reputation.  The make you go through layers of approvals waisting doctors time and delays patient care by weeks and sometimes months. \n",
            "Please do not take the bait and choose this company for your employees.  Everyone suffers and pays more in dollars, time , and lack of quality and timely care.\n",
            "146 -------- They have the worst service ever. My secondary insurance approved an epidural for my lower back. They have denied me services for this procedure. I spoke to my primary doc who will now refer to have an MRI & an orthopedic surgeon.  Stay away from this insurance I can’t wait until December so my husband can remove me from this poor excuse of an insurance plan.\n",
            "147 -------- As a healthcare provider, we bill Aetna when our patient informs us.\n",
            "Recently billed a claim and received payment from Aetna...BUT.... Aetna is too cheap to include an EOB. So I had to go into Availity to enter specific data to see who this $3000 payment was for.  Availity is having problems internally and we can not download or print the EOB. So....we've been sitting on a $3000 check ALL week because we don't know who it belongs to. The Aetna rep's advise was to call Availity.\n",
            "WORST INSURANCE COMPANY EVER !!!!!!\n",
            "148 -------- Terrible, terrible, terrible customer service. I have been on the phone for 8 hours trying to get an issue resolved. People either do not speak English and cannot understand my issue, hang up on me, or keep bouncing me around. Some of them tell me one thing, others tell me a different thing. One tells me that a complaint was filed, another tells me there is nothing filed. One sees the notes from previous calls, another tells me there are no notes. Eight hours on the phone and still not issue resolved. Will not be renewing my policy with them.\n",
            "149 -------- Aetna has to be the worst health insurance company out there.  Their agents continuously gave out false information, made promises they didn't keep and denied, denied, denied coverage, EVEN when they said on the phone something would be covered.  Their total lack of care for the client certainly drives one to think, do we really need or want insurance companies anymore.\n",
            "150 -------- Like many others I paid more than $400 a month for Health Insurance from Aetna. Despite the amount of money they take in on premiums alone, after asking at least three times for them to mail a directory of providers, they lied each time and said they would but never did. These multi billion dollar companies continue to nickel and dime customers in this manner. They refuse to accept the fact that some people don’t want to create yet another account and password to access things online! As much as we pay them, they can  afford to send every customer a paper directory in the mail along with a physical insurance card.\n",
            "151 -------- Everything is wrong about Aetna. They talk so sweet on the phone while selling you a bill of goods, but that is a lie. This company does not allow customers to access their website, then wants them to go there to get paperwork that should be sent by mail. If you have a serious condition, and you are insured by Aetna, YOU WILL DIE due to repeated refusal of life-saving treatment. If you have been assaulted by government workers, YOU WILL BE FORCED TO SUFFER. They encourage you to call the 988 line for non-suicidal \"ANY CRISIS AT ALL\" purposes, and this is a KILL LINE THAT DOES NOT OFFER ANY HELP. IT'S HOW MY SPINE GOT RE-BROKEN. YEAH.... THEY SENT A SWAT TEAM TO KILL MY WHOLE FAMILY BECAUSE I HAD A TBI HEADACHE. AND NOW  AETNA IS AIDING AND ABETTING MURDER BY REPEATEDLY REFUSING TREATMENT FOR THE FATAL INJURIES I RECEIVED BY FOLLOWING ITS LYING ADVICE. In short, Run Away from Aetna as fast as you can... crawl if you have to; they WILL refuse you a wheelchair. Just GET AWAY FROM AETNA if you want to live!I want to deeply apologize to all my friends and family for EVER recommending this company, and I would not recommend it to enemies either. Not even pedophiles deserve to be treated the way I have been treated. As soon as the Medicare signup begins, I. Am. Gone. Unless I am dead like Aetna wants, which is the most likely scenario seeing as how my doctor does not understand why I survived this vicious attack at all. Guess what? I. Will. Still. Be. Gone! Also: Aetna refuses to put me in hospice care like my doctor recommended. That is probably a good thing, because this company would have no qualms about forcing you into an asylum for the criminally insane (or a nursing home, there's no difference between the two).I HIGHLY and STRONGLY recommend that you never, ever use this company. Also, those \"gift cards\" they send you for giving them HIPPA-protected information? You never get them, or they have not been loaded if you do. the Nations Benefits card is a JOKE - Aetna keeps $1.23 every tine you use it, and you never know how much is on it because YOU CAN'T ACCESS THE WEBSITE. This is a deliberate slight meant to embarrass and shame customers. May the gods help you if you need Medicaid .... ESPECIALLY do not fall for Aetna's fakery. This company WANTS you to die.\n",
            "152 -------- Aetna has policy of charging 90 day cost for prescription over 30 days. Insulin comes in 5 vial box. Which is 36 days for one and 71 days for other.So a member doesn't receive 90 days supply for 90 days charge. Cant believe legality of stealing. Or morality or how is ethical. \n",
            "153 -------- So my \"covered\" annual physical cost me ...$7.80 for a thyroid check$13.05 for a b12 check, which was insanely low, so thank goodness it was done despite aetna saying it was not necessary or important despite my inability to get off the couch.$1.93 to have my cholesterol checked despite it being off the chart previously.$25.39 for a \"general health panel\" - no idea?So when you are choosing a health plan, and think aetna covers annual checkups - they do not.\n",
            "154 -------- I paid under $6.00/month for drug coverage for several a Medicare Plan D. In 2025 on March 11, I noticed a credit card charge for just over $40.00 per month which I found had started in January. After investigating the charge, I found my Aetna part D plan had been canceled and, the company said, I had been notified in September 2024 I was being moved to a plan that cost over $40.00 per month. I was never notified. When I canceled the plan Aetna outlined a process that involved me downloading a form, mailing or faxing it to them, getting Medicare’s approval then paying the current months charge. After all that I might have the plan canceled. When I downloaded the form, at the bottom of the third page I found I could just call Medicare about the cancellation. I called and because I’m enrolled in VA health, I have “credible coverage” making Medicare’s approval a foregone conclusion. The entire process took several hours speaking to customer services agents whose English language skills were questionable. \n",
            "155 -------- I have been with Aetna for the third year here in 2025. This year it was totally changed. Last year I was able to buy a Kayak for$600. I have really made good use of it. This year the  new benefit is a CVS OTC benefit to order OTC products from CVS their website or a catalog they sent out and a $45 Extra Benefit card which they said could also be used to by gas at Walmart,  groceries at HEB, and could be used at Family Dollar, Dollar Tree, and Walgreens. I have tried the card at Walmart to buy food and also gas. The card would not register on the ATM. An error code read NOT VALID. Same thing happened at  HEB, Walgreen, and Dollar Tree. When I reported this to Customer Service they suggested I use it at the counter. The attendant at the Walmart Gas station could not get it to work. HEB checkout said the same. They suggested I use it at CVS. Another call to Customer Service at the phone number listed on the card. She said well what were you trying to buy? I said pizza. She said frozen? I said yes frozen. Puts me on hold. Come back coughs in my ear real loud. Twice. Megan H. says I will write up a support ticket. I have to pull answers out of her. I said then what. She said you will hear back in two days. I said how, text message, email, or what? She said they will call you.So while waiting I buy a bottle of 81mg aspirin at CVS. 300 count $20.00 because they were out of smaller quantity bottes. Same pills are $14.97 at Walmart but the card cannot be used there. I guess CVS owns Aetna so of course they are forcing you to use the card there at higher prices.  When I hear from \"support\" I will update this review. Oh some other solutions I was told to use the card at the Walmart gas pump and put my zip code in for the pin. Card does not register. I was also told to use it as a credit card. The card does not register it reads NOT VALID on the pump. Very frustrating. As of a week later Aetna/CVS has not responded. 3/11/2025\n",
            "156 -------- Disgusting excuse for health insurance. \n",
            "157 -------- Where do I begin with this freaking company? First I like to talk about the terrible experience that I had with the marketplace since they basically put a wrong birthday in. And it seems like I have to contact more than one person to get the information right at first and then sign up with a certain plan. They redirected me and told me to go to a different website other than the actual Website. And then after being on the phone with a couple of rude employees saying that I am not a customer when I clearly signed up for it. It’s just the start of it. I have to re-enter my information and resubmit the application just because of a small mistake. And then they freaking link you up or redirect you to local agents. Like stop directing me to local agents because in this city, Metro Atlanta or Atlanta, there’s a lot of certain types of people with attitudes that you have to speak to. I simply needed insurance since I got laid off of my job. Even though I have to pay thousands of dollars of out-of-pocket costs, I should be treated with some decency because it goes to the government\n",
            "158 -------- Aetna won't approve the medication that our daughters doctor prescribed for her even though it's the only one that works for her.My daughter has been on ADHD medication for the past 2 year and it was working for her.  Yes, we still have to teach her appropriate behavior but the medication was working and helping her.  My husbands company switched insurance because of how many complaints they were getting with the old insurance so they got Aetna instead.  And yes, the former insurance company was difficult to deal with but they approved the doctors prescribed medications and treatments.  Aetna immediately denied her medication because of costs.  Told us to try cheaper ones and if they didn't work then they would cover the original medication with the doctors prior approval.  Why does the doctor have to send in a prior approval when he's the one that prescribed it in the first place!?  This makes no sense to me.  For the past 8 months we have tried 4 different medications and either they don't work or the side effects are so bad that we don't want her on it.  (IE, loss of appetite and losing weight when she's already a low weight, mood swings, extreme irritability, crying and not knowing why, etc.)  She is so frustrated about this whole thing when she was already on something that worked.  We are too! The insurance still won't approve the original medications because apparently the doctor didn't fill out the form right?  When I called to talk to them I was told that if even one little thing on the form the doctor fills out is not to Aetna's liking it would be denied. What? Yes, the medication is $500 a month but IT WORKS! I feel so sorry for those who are getting denied who have terminal and chronic illnesses just because of costs. I wouldn't recommend this company for ANYONE!\n",
            "159 -------- First, there needs to be a zero star option. I have Mail Handler’s Benefit Plan which is through Aetna. I have a fully torn medial meniscus tear in my right knee and no cartilage causing bone on bone. Multiple doctors have said my meniscus is unrepairable. At this time, I am unable to walk without significant pain or without limping. A doctor in Los Angeles, Dr. Justin Saliman, helped develop a medial implantable shock absorber which would solve my problem. It is FDA approved, can be implanted in an outpatient setting, and does not require the removal of bone. Aetna has denied me this procedure, not once but twice, saying it’s an elective procedure and still experimental. If it was experimental, it wouldn’t have FDA approval and being able to walk is not “elective”. If this insurance is an option for you, stay far away. It is garbage insurance and Aetna is a garbage insurance company. I will be switching next year and will be encouraging others I work with to do the same.\n",
            "160 -------- Aetna Medicare PPO is not loyal and truthful to even the most loyal senior citizen. They just denied me and my wife $1000 reimbursement for fitness watch, which their own agent suggested us to buy. The agent said they would reimburse us instantly. Aetna denied the claim, stating that we submitted a wrong form. They never mentioned any special form before, nor they ever sent any forms. They are just liars, and that is not a first time they deny claims, or paying ridiculously low amount. I think an Attorney General needs to step in and other Government bodies as well! Let Public beware\n",
            "161 -------- I went to pick up a prescription today. I have filled this a couple times in the past so I knew it had a copay of $105. When I went to pick it up at CVS (owned by Aetna) it was $260! I called Aetna and got the runaround. No explanation as to why it more than doubled in cost. 💲 I will have to do without this medication. \n",
            "162 -------- Extra Benefits: Aetna Medicare Advantage draws in consumers by offering extra benefits beyond what regular Medicare offers. Vision, dental and hearing are the biggest with some plans offering generous benefits for dental, vision and hearing. The main catch is that you must use their “in-network, 3rd party providers” to access some of those benefits. Contracts between these 3rd party providers, such as Nations Hearing offer up to $4,000 for a pair of hearing aids, but no out of network choice for consumers and lucrative profits for selling low end products at a premium price. Recent reports show consumers not utilizing these extra benefits, but reasons for this are more about the convoluted process of access and the potential denial of reimbursement claims.Claims Processing:  provider claims are processed quickly (within 30 day) but member reimbursement claims take up to 3 months to receive a check and often are arbitrarily denied, requiring appeals. Reasons for denial are poorly written and often in conflict with their own EOC. Many seniors who struggle with the insurance bureaucracy simply give up and eat the cost.Customer Service: CSR’s are poorly trained and have difficulty deciphering and interpreting the language in their EOC and policy directives. Working with them often requires escalating complaints to higher levels, which results in constant delays in service and payments. It often takes months for a complaint or appeal to get resolved. If you’re lucky enough to have a complaint resolved in your favor, you receive written documentation of the complaint and a resolution that barely resembles the original complaint, almost as though written by AI, though they insist that’s not the case.Rewards: Advertised rewards for basic health screenings is another draw to consumers. However, when it comes to redemption you are limited to 5 merchants (2 are fast food), 1 is CVS (owned by Aetna) and 2 others are retail home and home building supplies. Previously, Walmart and Albertsons were options that helped people stretch their food budget, but these have been removed. Unless you own your own home or need new clothing, then the options of unhealthy fast food are all that’s left.Website: Very general, basic information can be found at the website, which is frequently down or gets stuck processing requests. It doesn’t allow for submission of certain reimbursement requests and those that are allowed, don’t show submission confirmation or status updates. Other than the messaging section, all submissions fall into a black hole until you hear whether they’ve approved or denied your request.Communication: Aetna has an active marketing presence and frequently sends out notifications about products and services they want to sell or support. Contact them about how to access these things is always a challenge. As previously noted, CSR’s have difficulty communicating with consumers and don’t seem to have very basic knowledge of healthcare terminology or their own products and services.I don’t know who is in charge at this company or whether they have a board of directors that includes consumers. Companies that include a consumer or community-based consumer group on their boards often find their customers have higher satisfaction with their services. I don’t believe this company has the insight or motivation to improve their product and I’ve noted over the past 4 years of coverage with them, that their product has declined in value. Having said that, they are by no means the worst, but it’s a pretty low bar. Sadly, it doesn’t need to be that way; it just is, and in my view it’s because the customer is the lowest on their priority list. It begs the question, who is this company’s true customer? It’s clearly not the lonely consumer of their product, but the investors.\n",
            "163 -------- I have spinal stenosis and now starting to have trouble swallowing. My Dr needs an MRI due to my worsening symptoms and a few new symptoms including what's called Hoffman Reflex. But Aetna knows more than my Dr and decided it's not needed. I have increasing chances of experiencing paralysis from this condition, not to mention how often I choke and hurt. It feels like someone always has their hands around my throat. Thank goodness Aetna doesn't see that as a problem.\n",
            "164 -------- Bummer. 2 years ago, we got $45 per quarter to spend on CVS. In 2024, we got $90 a quarter. I was able to get a blood pressure tester, a nice cane, and an extension grabber, along with OTC meds (some required by my doctor). In 2025, Aetna reduced the amount to $45. Now, my OTC meds eat up nearly all of it each quarter. Bummer.\n",
            "165 -------- Was diagnosed with a torn knee meniscus. My doctor prescribed arthro surgery. After submitting an MRI the people at Aetna insisted that I complete 12 weeks of PT before they would approve the surgery. I completed this last week. My doctor re submitted everything and now Aetna will only approve a knee replacement as treatment because the MRI signs of arthritis. I almost have full range of motion with some at times moderate discomfort. Also I had arthro on my other knee last year. MRI showed signs of arthritis   and the arthro was approved without a hitch. My doctor feels strongly that at this point a knee replacement is not good medicine and I agree. Friends of mine who had knee replacements had to go through a lot more than 12 weeks of PT to get their replacements approved. We were misled thinking that 12 weeks of PT would get arthro approved and now they want a replacement which will cost them more\n",
            "166 -------- I've been taken hostage by Aetna prescription drug plan Part D 2025. I had Aetna Part D plan $9.90/mo in 2024. I receive regular communication from Aetna by post every month and always open and read my mail. I was NOT informed by post, email, or otherwise that the 2025 premium increased to $44.90 I did, however; receive a shocking bill- AFTER the open enrollment period. In multiple calls to Aetna, the specialists failed to accept any responsibility for their lack of communication during open enrollment and failed to acknowledge that I do not meet eligibility criteria for SEP as they continually tried to pass me off to the SEP dept again and again, dismissing me with no regard. I am bound to pay until next open enrollment. I will never choose aetna for anything again. Never. Medicare recommends Wellcare. I look forward to moving my business to WellCare in October.\n",
            "167 -------- The worse insurance company I have dealt with their customer service reps do not have their shit together and all will tell you ten different things before telling you the right thing. I would never recommend this company to anyone and I will never come back to them. \n",
            "168 -------- I am actually on a higher end plan. They aggressively do not cover anything that they aren legally required to. There is no good coverage for wellness, nor is there an appeal process.and recently they started rejecting all prescription claims from any pharmacy other than cvs, then on top of that they won’t honor that unless it is being filed as 3 month prescriptions.goodrx, or a savings account is more useful than this trash can of an insurance company.This is with an overpriced higher end plan.\n",
            "169 -------- Worst healthcare on the planet. They charge the most and pay for the least. You basically have to fight them for everything and have a bedside lawyer. Run the other way if you are offered Aetna or Aetna Medicare. They are a waste of money. \n",
            "170 -------- Dec 2nd, 2024 we spent so much time calling the Aetna 800 numbers trying to get a hold of customer service rep. We spoked to one by the name of Sacha P. We requested that the policy be cancelled and she verified and confirmed that it was. This morning 12/17 we were surprised by another monthly charged from Aetna.. again we tried calling back and the 2nd person by the name of  Misha told us that the policy was not cancelled.I have to call back again when I get back home because I could not stay that long on the phone with them at work.DO NOT USE AETNA – GO GET INSURANCE ELSEWHERE . They are horrible \n",
            "171 -------- I pay $1,000 a month for Aetna insurance, expecting full coverage for preventative care, as their policy promises. However, they’ve repeatedly denied claims for basic services like annual physicals. Despite their stated 100% coverage, they keep making excuses and refusing to pay. It’s frustrating to pay such high premiums for care that’s supposed to be covered. I wouldn’t recommend Aetna to anyone.\n",
            "172 -------- The business model for Aetna has become \"collect as many hundreds of $ as possible from patients, deny payment for EVERYTHING\".  It's outrageous how much my family pays these people every month, yet they leave us hanging with an MRI charge of $1440. Shame on these greedy people!\n",
            "173 -------- ( Please Read!!!!!)The worst and inferior insurance and useless customer service They will have you go back and forth with your doctors office not to approve referrals., They will be reported to the state., For not providing adequate care. Limited network choices and incompetent Brown and Toland customer service(aenta) HMO. Better choices out there shop around for a better supplement insurance for medicare. Avoid this inferior insurance company lack of good doctors in there network.\n",
            "174 -------- I am new to Medicare, so it is my initial enrollment period to start Dec 1, 2024. I applied for smartfit plan for 2024 and Value Plus for 2025. I had a guy with a heavy east indian accent call me and said he was from Aetna and wanted me to start handing out my personal info to verify it is me. Seriously? You called me, you verify who you are, what plan am I on. He said I cant tell you that until I verify it is you. I said I don't know that you are Aetna so I am not going to. He hung up on me, then he got into my aetna account and canceled my 2024 Smartfit plan 3 days before it is to start in which I already have my medical card for and a bank card for. Now they are no good and I am then switched to the value plus for 2024, which was suppose to start in 2025 (because these plans change every year). He did this on purpose to delay my insurance from starting on Dec 1. I called there to change it back. They said it would be 2 weeks for that to happen and I have dental appoints in 5 days and 9 days. There is no place to complain to. I called there and they are all idiots and unhelpful. I was on a chat with one guy and he put me on hold for 5 minutes that turned into 45. All this time he said nothing unless I said, are you still there. Only then did he say, yes, give me 3-5 more minutes. He was simply wanting to pretend he was working and not put himself into a situation to have to take the next chat by working under this method of deception. In the end I got no help there either. I don't dare call again because I will be subjected to telling the first person why I am calling, only to then be transferred to someone else, retell it, be transferred to someone else, retell it, then they pretend to do something, screw it up, and then you are stuck calling the next day to try and fix it. It is horrible.\n",
            "175 -------- Absolutely their latest commercial of 2 FRIENDS is awful, rude and a disgrace verbally to a senior friendship with one sarcastic old woman badmouthing her friend right up front! Ridiculous marketing dept. with inept people attempting weak humor & lousy representation of senior women.\n",
            "176 -------- The worst customer service you will ever experience. Nobody knows anything. If you have an issue they don't know how to resolve it. Terrible company because of this.\n",
            "177 -------- I've had Aetna for the year. I'm someone who only does their preventative appointments - Thank God. When I tell you it's been such a headache. First, went to the doctor only for my annual preventative. Did it. The doctor ordered the standard blood work - and Aetna didn't cover 100%. I've had to go back-and-forth with Aetna and the Propath SO MANNY TIMES over a Vitamin D check. VITAMIN D! Which I don't need nor requested, yet here we are. Apparently, no knows that Aetna, while they covered Vitamin D last year, doesn't cover it this year. What's the point in having a network of doctors you don't communicate with? I'll be honest, my best experience ever was with Kaiser. I'm not gonna lie - it was many years ago but if I could do it all again, I would never choose Aetna. The peace of mind and just the ease of experience, the efficiency and honestly my energy - not worth it. I got a mammogram done and had to have an additional test because my initial test (again annual preventative) was inconclusive - AGAIN, the back-and-forth to the point that I'm waiting on an appeal to come back. WHY? It's all preventative. Such a waste of time and honestly my peace (and YOURS) is worth so much more than this.\n",
            "178 -------- Lab test for intestinal infection (which was positive) was denied as experimental or investigational.  It was diagnostic and clearly covered by their own Clinical Policy Bulletin.  They don't return calls or answer the phone in their Executive Response Department.  CEO is new and I can't find an email. They won't answer specifically what else they may need.  Fraud at its best.\n",
            "179 -------- Aetna is not an American company, they dont deserve even 1 star, they do not have anyone no customer service that you can speak to anywhere in the united States there is no Aetna office to go to, they are not in your or any state that you can speak to a real person and get help in any state in the USA you will always get redirected to Philippines or India and they do not have patient care coordinators, or patient advocates. Aetna is a phony insurance company.Go to their page on any social platform and see all the frustrated customers, they do not cover anything and they are frauds. It is a terrible thing when you are ill and need care to find out you won't get any care because the company you signed up with is a fraud.Please do not choose aetna, do research before you choose an insurance company. Aetna just collects your payments and when you need help there is no one that will actually help you.Any legitimate USA based insurance company has a care coordinator, or a patient advocate, to help you navigate your benefits and get the best care, it is your right to have one, but Aetna reps do not even know what that is, and they do not have one, they also never cover any treatments, I see people being distraught on their page not getting their bills paid. This is not right. please stay clear of this company Any good reviews are phony and written by their public relations employees to save face.\n",
            "180 -------- Aetna is not an American company, they dont deserve even 1 star, they do not have anyone no customer service that you can speak to anywhere in the united States there is no Aetna office to go to, they are not in your or any state that you can speak to a real person and get help in any state in the USA you will always get redirected to Philippines or India and they do not have patient care coordinators, or patient advocates. Aetna is a phony insurance company.Go to their page on any social platform and see all the frustrated customers, they do not cover anything and they are frauds. It is a terrible thing when you are ill and need care to find out you won't get any care because the company you signed up with is a fraud.Please do not choose aetna, do research before you choose an insurance company. Aetna just collects your payments and when you need help there is no one that will actually help you.Any legitimate USA based insurance company has a care coordinator, or a patient advocate, to help you navigate your benefits and get the best care, it is your right to have one, but Aetna reps do not even know what that is, and they do not have one, they also never cover any treatments, I see people being distraught on their page not getting their bills paid. This is not right. please stay clear of this company\n",
            "181 -------- Horrible company to deal with.  Customer service is not in the US.  Reps are clueless.  I called 4 times in a row, spoke to 4 different people to ask what discount is offered for Lasik.  All 4 told me it's covered at 80%after despite me arguing with them that it is an elective and information they are providing is false.   Finally gave up.Called just to get benefits for lab work, rep also clueless.  They just read off a script that has NOTHING to do with the questions I ask.\n",
            "182 -------- Aetna is horrible!!!! Their staff barely speak English and you cannot understand their thick accents. They give you different and WRONG information EVERY SINGLE TIME you call them. When I ask too many questions they are rude, patronizing, and HANG UP ON YOU if you threaten to drop them. Awful company that just wants to make money. Worst experience ever. \n",
            "183 -------- Run very far away from this company!!!Aetna repeatedly called me (at least 5 times) to schedule an appointment with one of their doctors for a virtual check-up. In return they promised to reward me with $100 for my info and time. I was hesitant to participate because I feared that it would effect our rates for next year but in the end the $100 reward won me over.I had the appointment on September 30th.On October 14th I called and spent 27 minutes with a rep because I hadn't received the reward. I was assured that someone would reach out to me and that I would receive email confirmation of our conversation. Neither of those thing happened.Today, November 2, I tried to reach out again. It is Saturday and there is no way to contact them. The message link on their website is broken or disabled and their phones are only manned Mon - Fri.This completely aligns with the coverage that we have received. They deny every claim that we make and you have to spend hours on the phone to get the coverage that you pay for. \n",
            "184 -------- Aetna sucks. I have been denied coverage for lower back surgery. I have had physical therapy, shots, chiropractic. Was denied by Aetna for surgery after one doctor put in for surgery then I went a got another opinion and they put in for surgery and they denied it again. It’s not like I want surgery but I’m tired of living in pain. Leg goes numb. Sharp and shooting pain down leg. And just tired of it. I injured in 2000 and has just gotten worst over the years\n",
            "185 -------- Aetna has an extra benefit card called Aetna Nation's Benefits. It would be nice if Aetna would give that benefit without any strings attached. I downloaded the app so I could see what products I could get today, 10/23/24. The app (Benefits Pro) does not work. The scan-a-product feature does not work. Finding a store gives you links to other kinds of businesses. The only part that works is the link to their store, where almost everything is more expensive.\n",
            "186 -------- This was a Medicare plan I chose for 2024, I will never chose any medical plan from this company again, as they are money hungry, they pay hardly any coverage, the customer service department is unprofessional and dont know their jobs or what they are doing and they are only about themselves and not their customers. I have had multiple issues this year with this company, Starting even before I received my insurance cards. This should’ve been huge red flag for me, It has been a costly red flag for me, As I will not make that mistake again. I paid for an extra prescription plan to cover extra medication’s that were not already on my list. This plan did not even cover medication’s on my list, ie, They paid the smallest portion possible, only .67 out of $10, Not to mention There were ones they did not even cove at all that were on my list, That I was told would be covered. The customer service is by far the worst I have ever encountered. They don’t know their jobs, They can’t answer the questions you provide them to answer, What one person says someone else says something completely different and the left is never talking to the right and vice versa. I even got a claim specialist involved, Cindi, And she sent my claim to the wrong department, Therefore, wasting time, resources and money. Mind you, This was cancer testing, It was deemed medically necessary by my physician, And they denied it, So I appealed it. I was told I could have an appeal within seven days by three separate employees. Then I receive this letter saying it’s not going to happen in seven days and they are going to take as long as necessary to decide on the claim. Medicare guidelines state that genetic testing Should be covered when it’s preventative, And that is what this is and they will not cover it. I am waiting on a decision however I will be filing a complaint against this company. I think that the most frustrating part about all of this is what they say is going to be covered and what you pay for it is not covered, When you are on a limited income, SSDI, You do not have loads and loads of money to spend on unnecessary tests or test that you were told would be covered prior to enrollment and are not covered during your enrollment period. I would send multiple messages to try and get assistance and nobody would ever respond to the messages. I even had direct emails for people within the company and they would not respond to my messages or help me with issues with Aetna. I think possibly the worst part of Aetna is its customer service, They are rude, Uninformed, Knowledgeable about their company in which they represent, And many times when leaving messages, they are very unprofessional and do not say what the messages in regards to or who they are even representing. I would steer clear of this company if You are looking for great customer service, They simply do not have it and don’t know what it is. Also, What they claim they represent and what they actually represent are two complete different things. I could go into great detail of many of the in-depth issues I suffered with this company, but I think with some of the examples I have given, It will give insight to insurance company and leave this one on the side. \n",
            "187 -------- I thought Aetna Medicare would be in seniors advantage ,until I witnessed a senior struggling with his quarterly OTC allowance @ a CVS drugstore. It’s a shame to see that AETNA OTC allowance can only be used @ CVS , and you can mostly purchase CVS brand. If you choose AETNA, brace yourself to feel very limited to what you can buy with their OTC card.\n",
            "188 -------- Just switched to Aetna PPO. I hit a “road bump.” the first day!  The customer service rep Sabrina could not have been nicer or more efficient.  She immediately got me on a 3 way call with my doctor’s office.  The problem was fixed in less than a minute - that’ right less than 60 seconds!I also had help the day before with a rep named Monique (I think! Sorry! But she attempted a 3 way call also but my doctor’s office was closed)Two great experiences on the first two days!  Thanks Aetna!\n",
            "189 -------- Concerning their over-the-counter debit card through Nations Benefits I spent many hours on the phone with numerous Aetna customer service agents. All these agents attempted to assist ultimately their assistance completely failed. Aetna is to be faulted for their association with this company--Nation's Benefits OTC debit card, which I believe to be a scam operation out to rip off senior citizens. Many hours I spent on the phone trying to get this incompetent company and their debit card to work, which should never really did and I finally gave up. This scam company is the reason I changed from Aetna to another insurance company--along with submitting numerous complaints complaints to Aetna, Medicare, the BBB, and other online review websites. Also, Aetna failed to be clear with the health benefits they provide to senior citizens. Thus, I would find out about benefits that were available to me only after those particular benefits were discontinued. However by far the biggest issue was their association with Nations Benefits. \n",
            "190 -------- Aetna is one of the SLEAZIEST companies I’ve ever dealt with.When I was signing up for insurance, I looked at the options, and they all had different plans to reimburse people for fitness plans.The Aetna option offered reimbursement for a bunch of things like sneakers, which were prominently advertised, so I chose them.  AS SOON AS THE PLAN STARTED, THEY REMOVED THAT OPTION.Obviously, I could win in court if I wanted to go through the hassle, but I don’t.  They should go to JAIL.  Scumbags.By phone, they will then tell you that they have a “private list” of things that are approved.  They do NOT publish it online.   They will paper mail it to you in 2 weeks, but won’t email it to you.Then, for any items that you want a reimbursement for, they will take 45 days to pay the reimbursement.Scumbags.\n",
            "191 -------- I am a Aetna member at this time. Not happy with them. I had to pay 4 months for my medication which came out to almost $200 I live on a fixed income. It took me 4 months to get a prior authorization done and the only good thing was they did help me do that. Then when it came to giving me a portion of my money back I managed to get $26.. I personally would not recommend them for a Medicare advantage plan. Your best bet is to go somewhere else. They give your number out to all these different companies and they call you and try to get you to do all kind of stupid things like wider circles. After 6 months worth of phone calls from wider circles they no longer call me. Just not real happy with the insurance company. And when you do call the insurance company they don't really know much of anything you have to explain the situation and then they transfer you to somewhere in that expertise. I've only been with two other Medicare advantage plan company and Aetna is the worst. I was told that I had a case manager. Well to my knowledge I've never heard from them don't know who who they are their name or nothing. I guess cuz I don't jump through hoops for them and have all these crazy tests done then I guess they don't really have time for me. I'll be glad when October comes and I can change back to my original insurance company because this is ridiculous.\n",
            "192 -------- Insurance company should not be allowed to decline surgery recommended by patients doctor.  They need to stay in their lane of insurance.  This ability is determinate to patients physical, emotional and mental well-being.  \n",
            "193 -------- I am a Medicare enrollee and switched from a Blue Cross Supplemental to an Aetna Medicare Advantage plan 3 years ago.  Aetna has some additional benefits and is much easier to navigate.  The biggest compliment is that their telephone customer service is generally responsive and helpful.Most importantly, the leading hospitals and physician groups in my city particIpate in the networK\n",
            "194 -------- I recently had a rental reimbursement check canceled at my bank!  This is only the second time I requested this check from aetna which they advertise they will honor on their OTC website.  Here is the catch; the website is very difficult to navigate when making the reimbursement request even after submitting the required info. Then ex. I submitted a request on 6/6/24 and it was approved. I called over and over after three weeks checking on when I would receive the check and the cust svc. rep suggesting sending another check after I waited the required 30 days for the 1st check. Finally on 8/8/24 I received the check dated 6/12/24 and deposited it in my bank. This check bounced and my bank informed me that it had a stop payment on it. Aetna cust svc had no idea why and told me to go to another bank to cash it, I refused, they said the check was declined because it was too old, I said Lies, It was dated 6/12, then after several more calls I was finally told they canceled that check because I called in about it and they reissued another check!  I asked so where is the replacement check and they said wait yet another 30 days!!! This was the 2nd time I am having to pull teeth to get Aetna to honor what they advertise and still they don't even do that right!!! A load of CRAP!!!\n",
            "195 -------- I been with Aetna for years through my employer. 2023 I was diagnosed with Cancer and made it a point to max out my deductible and out of pocket cost by March. In june I received a bill from my oncologist, called Aetna to find out why since my out of pocket and deductible was mat in March the person I was speaking with informed me I was right it does show I mat both and he would investigate. Did not receive a call or letter in july again I get the same bill from my oncologist so I call Aetna again. I got hung up on, was not called back, so when I called back the person transferred me to express scripts the lovely lady at express scripts has no idea why I was transferred to them since this is a oncologist bill and transfers me back now this is the third person I am speaking to have to repeat everything I already explained and she tries to transfer me to express script again. I informed her not to transfer me . she had no clue on how to explain this to make sense at all I wasted 3 hours on the phone which I do not have time for I work and am going through cancer treatment. I ended up having to submit a claim/complaint and received a message stating that now all of a sudden my out of pocket was not met until 04/15 ( how convenient my appointment was 04/11) and that I am still liable to pay. I will be switching insurance companies. \n",
            "196 -------- Aetna is an absolute nightmare. We had a health plan that required referrals for specialists. Our primary care physician referred us to an ENT for our daughter's ear infections, and the ENT then installed tubes in her ears. Aetna rejected the claim for the tubes surgery and is trying to charge us for it, stating that the referral from our PCP was for the ENT appointment only and that our PCP needed to make another referral for the surgery. This makes absolutely no sense, after the PCP refers you to a specialist, it's in the specialist's hands and the PCP is no longer involved in the process This is just one of many ways that Aetna tries to screw over its customers to make more money, and I'm surprised that this is even legal. After this happened to us multiple times, and we've heard from medical providers in Charlotte that many other patients are experiencing the same issues with Aetna, perhaps it's time to go to one of the news networks. It would make for an interesting story...\n",
            "197 -------- I chose Aetna because they had several gps, dentists & dental surgeons nearby, listed on their provider page. Am disgusted that NONE of the dental surgeons/ dentists actually accept their insurance. I could only find one gp that does. They cannot be trusted.\n",
            "198 -------- All I read is how bad Aetna is; I never had to really use the plan. Lately I've been having issues and now I've been making an effort to take care of myself.I called Aetna to see if I would be approved with what my doctor wanted to do and they said yes I was covered. The walked me through what needed to be done. Now they are saying I am not covered after I did everything.I called to get the transcripts of the conversation and they said that I cannot have it without a lawyer contacting their legal team.Aetna does not want to help their clients, just want our money. I'm going to write and contact every department, the news outlets, and to local government officials, including the AG because I am over paying exorbitant monthly cost, never using insurance and then getting told I cannot use it.I suggested everyone writes to the AG at the very least so they can look into their practices\n",
            "199 -------- Only having been on Medicaid and Medicare for just under 1 year, which is the result of my neurological disability, I was not/am not yet very familiar with it all. Unfortunately, this leaves me to entrusting even 1 of these companies to do what is right and honest for people; such as myself.In the beginning, I chose AETNA as my part D. This month; which is selection and enrollment time for insurance, my phone and mail start getting bombarded to the point of harassment. This companies damned sales sharks; who promised they had nothing other than helping make my medical finances and  care options as their goal, and pulled out every line of sale crap that they could. Also, they even promised to be able to add hearing and vision to my care plan without causing more expense out of my already short monthly limited income. ALL MISLEADING SALES BULL CRAP AND LIES!!!Here is the HUGE violation and lie....I told the one female sales con, that \"I do not want, nor will I ever allow to have ANY control and dealings taken out of the hands of strictly MY GOVERNMENT MEDICARE OR MEDICAID. In any sense nor fashion!!!Well, this female sales con artist, went against my very direct and clear statement, and mislead me into one of their HMO plans; which did vive me the vision coverage that I do need badly, and I fell for it!!! After I further investigated both HMO and PPO, and found that these do deprive people of honest medicaid and medicare guidelines, lower rates, benefits, and honesty!!! I spent hours getting this halted and to keep my coverage as is with solely and directly our government health care.Just DO NOT FALL FOR ANYTHING THESE SALES PEOPLE SAY. IF IN DOUBT AND NEEDING ADVICE/HELP, CONTACT MEDICAID/MEDICARE!!!\n",
            "200 -------- Customer Service plays you - I had to call 10 times spending hours on the phone because they kept setting up my primary care doctor incorrectly which would eventually result in unpaid claims. I got reference numbers each time and to no avail - finally demanding Aetna to call the PC office to see why they couldn't attach my family to the right office this was over the course of 4 months. Very very disappointed and I haven't even used this medical insurance yet. Asked Aetna representative multiple times for a supervisor and 3 way calls - one representative outright lied to me by saying he spoke to someone at the office - he gave me a reference and name - when I immediately called the office there wasn't a person at that office by the name he gave me. Lying is unacceptable.\n",
            "201 -------- Absolutely awful.  This company should not be in business.  Processing claims takes an eternity.  The reps are unresponsive and uninformed.  Even finding in-network providers is an absolute pain and I live in a major metro.  This org is borderline criminal. Your odds of dying are literally greater if this is your insurance provider.\n",
            "202 -------- Worst Experience of my LIFE! I bought a plan in January, paid and all, by the end of February I had heard nothing back. I called and they had no idea who I was. Im medically fragile and their member services department almost hospitilized me because of their incompetence. It took over a week to untangle what was happening and fix it. “SF” was the absolute worst person to deal with in billing and just sent emails with no actual information and just empty and condescending apologies. Worst experience with insurance I have ever had and I refuse to ever go back. Their unorganization almost led to me being financially and emotionally ruined. Jerks. \n",
            "203 -------- Aetna ABSOLUTELY denies medically necessary major back survery and medically necessary post op pain meds one all ridiculous appeals have been done in order for the surgery to finally be approved. And rep had the audacity to suggest we just pay out of pocket if we really want those pain meds... They hide behind the guise of managed care when it is really controlled care based on the bottom line i.e. $$$$. \n",
            "204 -------- Aetna customer service reps suck!! They are very ignorant and rude!! And it's mostly the black people they have working for them!! Everyone else seems to be ok! Get rid of the ignorant reps you have working for you! They're giving Aetna a really bad name! If you can't do your job correctly find another job! A job where they put up with your b.s.! Not being racist so don't get your panties in a twist! Just being completely honest!! If I could give a big fat zero for their very poor attitude they would get a big fat zero!!\n",
            "205 -------- There horrible. They put me in the program with our telling me and when I could not get my meds the pharmacy said I had to call them. I did and was informed that I owed them money. I'm on a very low income. I had to pay them.. After I borrowed the money and paid them I still can't get my meds. I was told I would owe them every month. I received 4 letters today none with a card. When I called and asked them why it went up to $40.40 a month now . The person kept laughing at me. I asked for his supervisor 5 times and he would not let me talk to them. I would never recomend them. . \n",
            "206 -------- I keep getting calls from Aetna, even on a weekend just like today. I have been in the hospital a few times and they think they have to keep calling me about things. I had agreed to a nurse visit via telehealth just to get them to stop calling, then tried to cancel it and received texts all day about it. Apparently I now have someone else who feels the need to call me. She says she is my case manager!!?? I am not feeling well, am very stressed and also preparing to move. This needs to STOP!! \n",
            "207 -------- I'm a Provider & the Overseas agents only wanting to collect a paycheck has RUINED Aetna! Stay Away! The agents are liars & they place you on hold without returning! HORRIBLE! Whenever you ask for a supervisor, none are EVER available. Also, there are No Provider Area Reps - WHY? \n"
          ]
        }
      ]
    },
    {
      "cell_type": "code",
      "source": [
        "def loading_models():\n",
        "  device = torch.device('cuda' if torch.cuda.is_available() else 'cpu')\n",
        "  embedding_tokenizer = AutoTokenizer.from_pretrained('jinaai/jina-embeddings-v3')\n",
        "  embedding_model = AutoModel.from_pretrained('jinaai/jina-embeddings-v3', trust_remote_code=True).to(device)"
      ],
      "metadata": {
        "id": "SVHph6RycBKb"
      },
      "id": "SVHph6RycBKb",
      "execution_count": null,
      "outputs": []
    }
  ],
  "metadata": {
    "kernelspec": {
      "display_name": "Python 3",
      "name": "python3"
    },
    "language_info": {
      "codemirror_mode": {
        "name": "ipython",
        "version": 3
      },
      "file_extension": ".py",
      "mimetype": "text/x-python",
      "name": "python",
      "nbconvert_exporter": "python",
      "pygments_lexer": "ipython3",
      "version": "3.11.2"
    },
    "colab": {
      "provenance": []
    },
    "widgets": {
      "application/vnd.jupyter.widget-state+json": {
        "b29fa3999f5e4821887867c00014e132": {
          "model_module": "@jupyter-widgets/controls",
          "model_name": "HBoxModel",
          "model_module_version": "1.5.0",
          "state": {
            "_dom_classes": [],
            "_model_module": "@jupyter-widgets/controls",
            "_model_module_version": "1.5.0",
            "_model_name": "HBoxModel",
            "_view_count": null,
            "_view_module": "@jupyter-widgets/controls",
            "_view_module_version": "1.5.0",
            "_view_name": "HBoxView",
            "box_style": "",
            "children": [
              "IPY_MODEL_1fddbbbaf521473387e14d2c74bb9065",
              "IPY_MODEL_ef3ba67563f7439a9e12d61eebfcafc2",
              "IPY_MODEL_f80006b93f964ae484387aded9f6d186"
            ],
            "layout": "IPY_MODEL_07a8f390320f4c48809cb568a0d3f01a"
          }
        },
        "1fddbbbaf521473387e14d2c74bb9065": {
          "model_module": "@jupyter-widgets/controls",
          "model_name": "HTMLModel",
          "model_module_version": "1.5.0",
          "state": {
            "_dom_classes": [],
            "_model_module": "@jupyter-widgets/controls",
            "_model_module_version": "1.5.0",
            "_model_name": "HTMLModel",
            "_view_count": null,
            "_view_module": "@jupyter-widgets/controls",
            "_view_module_version": "1.5.0",
            "_view_name": "HTMLView",
            "description": "",
            "description_tooltip": null,
            "layout": "IPY_MODEL_f840c943e6b243aeaba60c0c3c24adfc",
            "placeholder": "​",
            "style": "IPY_MODEL_fd8ecc26f6ca49dfb59c116345b6feea",
            "value": "Loading checkpoint shards: 100%"
          }
        },
        "ef3ba67563f7439a9e12d61eebfcafc2": {
          "model_module": "@jupyter-widgets/controls",
          "model_name": "FloatProgressModel",
          "model_module_version": "1.5.0",
          "state": {
            "_dom_classes": [],
            "_model_module": "@jupyter-widgets/controls",
            "_model_module_version": "1.5.0",
            "_model_name": "FloatProgressModel",
            "_view_count": null,
            "_view_module": "@jupyter-widgets/controls",
            "_view_module_version": "1.5.0",
            "_view_name": "ProgressView",
            "bar_style": "success",
            "description": "",
            "description_tooltip": null,
            "layout": "IPY_MODEL_bcb2d5dd654a4ddc9f6c7ab3975c4fb7",
            "max": 2,
            "min": 0,
            "orientation": "horizontal",
            "style": "IPY_MODEL_712d251eb72548a4bb6e08bac2b1ae38",
            "value": 2
          }
        },
        "f80006b93f964ae484387aded9f6d186": {
          "model_module": "@jupyter-widgets/controls",
          "model_name": "HTMLModel",
          "model_module_version": "1.5.0",
          "state": {
            "_dom_classes": [],
            "_model_module": "@jupyter-widgets/controls",
            "_model_module_version": "1.5.0",
            "_model_name": "HTMLModel",
            "_view_count": null,
            "_view_module": "@jupyter-widgets/controls",
            "_view_module_version": "1.5.0",
            "_view_name": "HTMLView",
            "description": "",
            "description_tooltip": null,
            "layout": "IPY_MODEL_d27507801852474b90f6a4569126f285",
            "placeholder": "​",
            "style": "IPY_MODEL_596b4f1850f74c9f92ffa38b0c12aa02",
            "value": " 2/2 [00:37&lt;00:00, 17.77s/it]"
          }
        },
        "07a8f390320f4c48809cb568a0d3f01a": {
          "model_module": "@jupyter-widgets/base",
          "model_name": "LayoutModel",
          "model_module_version": "1.2.0",
          "state": {
            "_model_module": "@jupyter-widgets/base",
            "_model_module_version": "1.2.0",
            "_model_name": "LayoutModel",
            "_view_count": null,
            "_view_module": "@jupyter-widgets/base",
            "_view_module_version": "1.2.0",
            "_view_name": "LayoutView",
            "align_content": null,
            "align_items": null,
            "align_self": null,
            "border": null,
            "bottom": null,
            "display": null,
            "flex": null,
            "flex_flow": null,
            "grid_area": null,
            "grid_auto_columns": null,
            "grid_auto_flow": null,
            "grid_auto_rows": null,
            "grid_column": null,
            "grid_gap": null,
            "grid_row": null,
            "grid_template_areas": null,
            "grid_template_columns": null,
            "grid_template_rows": null,
            "height": null,
            "justify_content": null,
            "justify_items": null,
            "left": null,
            "margin": null,
            "max_height": null,
            "max_width": null,
            "min_height": null,
            "min_width": null,
            "object_fit": null,
            "object_position": null,
            "order": null,
            "overflow": null,
            "overflow_x": null,
            "overflow_y": null,
            "padding": null,
            "right": null,
            "top": null,
            "visibility": null,
            "width": null
          }
        },
        "f840c943e6b243aeaba60c0c3c24adfc": {
          "model_module": "@jupyter-widgets/base",
          "model_name": "LayoutModel",
          "model_module_version": "1.2.0",
          "state": {
            "_model_module": "@jupyter-widgets/base",
            "_model_module_version": "1.2.0",
            "_model_name": "LayoutModel",
            "_view_count": null,
            "_view_module": "@jupyter-widgets/base",
            "_view_module_version": "1.2.0",
            "_view_name": "LayoutView",
            "align_content": null,
            "align_items": null,
            "align_self": null,
            "border": null,
            "bottom": null,
            "display": null,
            "flex": null,
            "flex_flow": null,
            "grid_area": null,
            "grid_auto_columns": null,
            "grid_auto_flow": null,
            "grid_auto_rows": null,
            "grid_column": null,
            "grid_gap": null,
            "grid_row": null,
            "grid_template_areas": null,
            "grid_template_columns": null,
            "grid_template_rows": null,
            "height": null,
            "justify_content": null,
            "justify_items": null,
            "left": null,
            "margin": null,
            "max_height": null,
            "max_width": null,
            "min_height": null,
            "min_width": null,
            "object_fit": null,
            "object_position": null,
            "order": null,
            "overflow": null,
            "overflow_x": null,
            "overflow_y": null,
            "padding": null,
            "right": null,
            "top": null,
            "visibility": null,
            "width": null
          }
        },
        "fd8ecc26f6ca49dfb59c116345b6feea": {
          "model_module": "@jupyter-widgets/controls",
          "model_name": "DescriptionStyleModel",
          "model_module_version": "1.5.0",
          "state": {
            "_model_module": "@jupyter-widgets/controls",
            "_model_module_version": "1.5.0",
            "_model_name": "DescriptionStyleModel",
            "_view_count": null,
            "_view_module": "@jupyter-widgets/base",
            "_view_module_version": "1.2.0",
            "_view_name": "StyleView",
            "description_width": ""
          }
        },
        "bcb2d5dd654a4ddc9f6c7ab3975c4fb7": {
          "model_module": "@jupyter-widgets/base",
          "model_name": "LayoutModel",
          "model_module_version": "1.2.0",
          "state": {
            "_model_module": "@jupyter-widgets/base",
            "_model_module_version": "1.2.0",
            "_model_name": "LayoutModel",
            "_view_count": null,
            "_view_module": "@jupyter-widgets/base",
            "_view_module_version": "1.2.0",
            "_view_name": "LayoutView",
            "align_content": null,
            "align_items": null,
            "align_self": null,
            "border": null,
            "bottom": null,
            "display": null,
            "flex": null,
            "flex_flow": null,
            "grid_area": null,
            "grid_auto_columns": null,
            "grid_auto_flow": null,
            "grid_auto_rows": null,
            "grid_column": null,
            "grid_gap": null,
            "grid_row": null,
            "grid_template_areas": null,
            "grid_template_columns": null,
            "grid_template_rows": null,
            "height": null,
            "justify_content": null,
            "justify_items": null,
            "left": null,
            "margin": null,
            "max_height": null,
            "max_width": null,
            "min_height": null,
            "min_width": null,
            "object_fit": null,
            "object_position": null,
            "order": null,
            "overflow": null,
            "overflow_x": null,
            "overflow_y": null,
            "padding": null,
            "right": null,
            "top": null,
            "visibility": null,
            "width": null
          }
        },
        "712d251eb72548a4bb6e08bac2b1ae38": {
          "model_module": "@jupyter-widgets/controls",
          "model_name": "ProgressStyleModel",
          "model_module_version": "1.5.0",
          "state": {
            "_model_module": "@jupyter-widgets/controls",
            "_model_module_version": "1.5.0",
            "_model_name": "ProgressStyleModel",
            "_view_count": null,
            "_view_module": "@jupyter-widgets/base",
            "_view_module_version": "1.2.0",
            "_view_name": "StyleView",
            "bar_color": null,
            "description_width": ""
          }
        },
        "d27507801852474b90f6a4569126f285": {
          "model_module": "@jupyter-widgets/base",
          "model_name": "LayoutModel",
          "model_module_version": "1.2.0",
          "state": {
            "_model_module": "@jupyter-widgets/base",
            "_model_module_version": "1.2.0",
            "_model_name": "LayoutModel",
            "_view_count": null,
            "_view_module": "@jupyter-widgets/base",
            "_view_module_version": "1.2.0",
            "_view_name": "LayoutView",
            "align_content": null,
            "align_items": null,
            "align_self": null,
            "border": null,
            "bottom": null,
            "display": null,
            "flex": null,
            "flex_flow": null,
            "grid_area": null,
            "grid_auto_columns": null,
            "grid_auto_flow": null,
            "grid_auto_rows": null,
            "grid_column": null,
            "grid_gap": null,
            "grid_row": null,
            "grid_template_areas": null,
            "grid_template_columns": null,
            "grid_template_rows": null,
            "height": null,
            "justify_content": null,
            "justify_items": null,
            "left": null,
            "margin": null,
            "max_height": null,
            "max_width": null,
            "min_height": null,
            "min_width": null,
            "object_fit": null,
            "object_position": null,
            "order": null,
            "overflow": null,
            "overflow_x": null,
            "overflow_y": null,
            "padding": null,
            "right": null,
            "top": null,
            "visibility": null,
            "width": null
          }
        },
        "596b4f1850f74c9f92ffa38b0c12aa02": {
          "model_module": "@jupyter-widgets/controls",
          "model_name": "DescriptionStyleModel",
          "model_module_version": "1.5.0",
          "state": {
            "_model_module": "@jupyter-widgets/controls",
            "_model_module_version": "1.5.0",
            "_model_name": "DescriptionStyleModel",
            "_view_count": null,
            "_view_module": "@jupyter-widgets/base",
            "_view_module_version": "1.2.0",
            "_view_name": "StyleView",
            "description_width": ""
          }
        }
      }
    }
  },
  "nbformat": 4,
  "nbformat_minor": 5
}